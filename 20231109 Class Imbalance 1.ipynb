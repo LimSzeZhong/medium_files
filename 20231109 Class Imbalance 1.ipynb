{
 "cells": [
  {
   "cell_type": "markdown",
   "id": "6bd67194",
   "metadata": {},
   "source": [
    "### Import Relevant Libraries"
   ]
  },
  {
   "cell_type": "code",
   "execution_count": 1,
   "id": "bbcfc928",
   "metadata": {},
   "outputs": [
    {
     "name": "stderr",
     "output_type": "stream",
     "text": [
      "<frozen importlib._bootstrap>:228: RuntimeWarning: scipy._lib.messagestream.MessageStream size changed, may indicate binary incompatibility. Expected 56 from C header, got 64 from PyObject\n"
     ]
    }
   ],
   "source": [
    "import numpy as np\n",
    "import pandas as pd\n",
    "import matplotlib.pyplot as plt\n",
    "import findspark\n",
    "from pyspark.sql import SparkSession\n",
    "from pyspark.sql import functions as F\n",
    "from pyspark.sql.types import StructType, StructField, DoubleType, StringType, IntegerType\n",
    "from pyspark.ml.feature import VectorAssembler, StringIndexer\n",
    "from pyspark.ml.classification import RandomForestClassifier, RandomForestClassificationModel\n",
    "from pyspark.ml.evaluation import BinaryClassificationEvaluator, MulticlassClassificationEvaluator\n",
    "from pyspark.mllib.evaluation import MulticlassMetrics\n",
    "\n",
    "from sklearn.metrics import confusion_matrix"
   ]
  },
  {
   "cell_type": "markdown",
   "id": "e5f367af",
   "metadata": {},
   "source": [
    "### Initialize the Spark Context"
   ]
  },
  {
   "cell_type": "code",
   "execution_count": 2,
   "id": "fddfdeda",
   "metadata": {},
   "outputs": [],
   "source": [
    "# Use findspark.init() to locate spark on the system and import the library for you.\n",
    "# If you don't do this step, you might face an issue of python worker failed to connect.\n",
    "findspark.init()\n",
    "\n",
    "# Start the Spark session\n",
    "spark = SparkSession.builder.appName(\"ClassImbalanceHandling\").getOrCreate()"
   ]
  },
  {
   "cell_type": "markdown",
   "id": "a6fee52f",
   "metadata": {},
   "source": [
    "## Create Mock Pyspark Dataset with Class Imbalance"
   ]
  },
  {
   "cell_type": "code",
   "execution_count": 3,
   "id": "41abf2e1",
   "metadata": {},
   "outputs": [
    {
     "name": "stdout",
     "output_type": "stream",
     "text": [
      "There are total of 5000 Class B samples.\n",
      "          col1      col2        col3      col4       col5 class\n",
      "0 -1718.649877  0.898257  -39.836576 -0.198589   5.539138     A\n",
      "1  -121.041019 -0.444813    3.686693 -0.558107  -6.573311     A\n",
      "2  1038.512670  0.783736   42.352528  0.450083  13.525636     A\n",
      "3  -209.312628 -2.215415   36.416854  1.678712  12.133693     A\n",
      "4  -429.805510 -1.292846 -237.993497 -0.564347  16.672520     A\n"
     ]
    }
   ],
   "source": [
    "# Define the number of samples\n",
    "total_samples = 100000\n",
    "\n",
    "# Define the features (e.g., you can choose any distribution for feature values)\n",
    "# In this example, we use random values from normal distribution\n",
    "np.random.seed(0)\n",
    "feature1 = np.random.normal(0, 1000, total_samples)\n",
    "feature2 = np.random.normal(0, 1, total_samples)\n",
    "feature3 = np.random.normal(0, 100, total_samples)\n",
    "feature4 = np.random.normal(0, 1, total_samples)\n",
    "feature5 = np.random.normal(0, 10, total_samples)\n",
    "\n",
    "# Create the dataset\n",
    "data = {\n",
    "    \"col1\": feature1,\n",
    "    \"col2\": feature2,\n",
    "    \"col3\": feature3,\n",
    "    \"col4\": feature4,\n",
    "    \"col5\": feature5\n",
    "}\n",
    "\n",
    "# Create a pandas DataFrame with the dictionary\n",
    "df = pd.DataFrame(data)\n",
    "\n",
    "# Introduce class imbalance by assigning one class more samples\n",
    "# In this example, Class A has the majority and Class B has the minority\n",
    "# You can adjust the imbalance ratio as needed\n",
    "imbalance_ratio = 0.05  # 5% Class B samples\n",
    "class_b_samples = int(total_samples * imbalance_ratio)\n",
    "total_class_b_samples = - class_b_samples\n",
    "print(f\"There are total of {-total_class_b_samples} Class B samples.\")\n",
    "\n",
    "# Add in the \"class\" column with the labels\n",
    "df['class'] = 'A'\n",
    "df.iloc[total_class_b_samples:,5] = 'B'\n",
    "\n",
    "# Shuffle the dataset to mix the classes (not that it makes a difference but just for demo.)\n",
    "df = df.sample(frac=1, random_state=0).reset_index(drop=True)\n",
    "\n",
    "# Show the 1st 5 rows.\n",
    "print(df.head())"
   ]
  },
  {
   "cell_type": "code",
   "execution_count": 4,
   "id": "ef37104a",
   "metadata": {},
   "outputs": [
    {
     "name": "stdout",
     "output_type": "stream",
     "text": [
      "col1     5000\n",
      "col2     5000\n",
      "col3     5000\n",
      "col4     5000\n",
      "col5     5000\n",
      "class    5000\n",
      "dtype: int64\n"
     ]
    }
   ],
   "source": [
    "# Check to see if there are the correct number of rows with Class B\n",
    "print(df.loc[df['class']=='B'].count())"
   ]
  },
  {
   "cell_type": "code",
   "execution_count": 5,
   "id": "81850dc1",
   "metadata": {},
   "outputs": [],
   "source": [
    "# Define the schema for the PySpark DataFrame\n",
    "schema = StructType([\n",
    "    StructField(\"Feature1\", DoubleType(), True),\n",
    "    StructField(\"Feature2\", DoubleType(), True),\n",
    "    StructField(\"Feature3\", DoubleType(), True),\n",
    "    StructField(\"Feature4\", DoubleType(), True),\n",
    "    StructField(\"Feature5\", DoubleType(), True),\n",
    "    StructField(\"Class\", StringType(), True)\n",
    "])\n",
    "\n",
    "# Convert the pandas DataFrame to PySpark DataFrame\n",
    "pyspark_df = spark.createDataFrame(df, schema=schema)"
   ]
  },
  {
   "cell_type": "code",
   "execution_count": 6,
   "id": "fd110327",
   "metadata": {},
   "outputs": [
    {
     "name": "stdout",
     "output_type": "stream",
     "text": [
      "+-------------------+--------------------+-------------------+--------------------+-------------------+-----+\n",
      "|           Feature1|            Feature2|           Feature3|            Feature4|           Feature5|Class|\n",
      "+-------------------+--------------------+-------------------+--------------------+-------------------+-----+\n",
      "| -1718.649876612095|  0.8982566006303742| -39.83657612644435|-0.19858908539429249|  5.539138272731238|    A|\n",
      "|-121.04101922277877| -0.4448128444740752| 3.6866931235569558| -0.5581070764909885| -6.573310665724776|    A|\n",
      "|  1038.512669661264|  0.7837362000748797| 42.352528263407955| 0.45008269775923704| 13.525636175411687|    A|\n",
      "|-209.31262765761383|  -2.215414966767953| 36.416853544786235|  1.6787123778283846| 12.133693494115981|    A|\n",
      "|-429.80551004065086| -1.2928462486265264|-237.99349743855237| -0.5643467373641192|  16.67251969166381|    A|\n",
      "| -1330.663464004668|  0.7637053829834995| -78.96444127988173| -1.2669440573794475|   3.51228852908923|    A|\n",
      "|   847.291767134142| -1.0495009835441484| -91.45222096590821| -0.4846789203606238| -1.598706053879625|    A|\n",
      "| 460.41173892476763|-0.22573222263791606|  70.62936444276944|-0.49391143676494476| -2.879258462070054|    A|\n",
      "| -875.1621356272487|-0.38117237421972217| -77.99678247139528| 0.46983919162630267| 12.515767893931498|    A|\n",
      "| -627.3316004157076| -0.5549749215333662|-10.399219073136885|    0.89919015440135| 12.581688093472113|    A|\n",
      "| 1283.9845381228502|  -0.770592091483261| -68.94705087676064| -1.1602063056619414| -21.69550978113233|    A|\n",
      "|  -305.944577863589| -1.5923013186553838|  62.14700711604703|  0.5238622765978217| 16.103726606111632|    A|\n",
      "| -31.59523997266076| -0.7481769216697508| 1.4312485718023382| -0.8440012848666382|  6.344604577039053|    A|\n",
      "|  901.2888629053257|-0.16383099929719716| -30.55712458518012|   1.110898210243246| 18.657772747177628|    A|\n",
      "| 1032.6079164857313|  0.9795083910091734|-156.96507260752512|  -1.446482722684827|  4.307765130524367|    A|\n",
      "|   522.716870509614| -0.8729440902276315|   65.4561939568297| -1.2254965673696465| -12.30411445178711|    A|\n",
      "|  -3543.80320036059| -0.9763923854079711|  70.01052732965698|-0.02872537466436695|-3.8668618851579484|    A|\n",
      "|  1796.918522574928|    0.95010183298081|-18.030842662011683| -0.7287918190041712| 19.963286512370335|    A|\n",
      "| 1092.1074360600662| -0.2855768979216465| -78.50524422183368|-0.29798304555959565|  3.887619135686311|    A|\n",
      "| -40.76454042882965|  0.8111013856224446|  127.3220582267838|  -0.276534454376672| -3.863334839341741|    A|\n",
      "+-------------------+--------------------+-------------------+--------------------+-------------------+-----+\n",
      "only showing top 20 rows\n",
      "\n"
     ]
    }
   ],
   "source": [
    "# Show the first few rows of the PySpark DataFrame\n",
    "pyspark_df.show()"
   ]
  },
  {
   "cell_type": "code",
   "execution_count": 7,
   "id": "79161d3e",
   "metadata": {},
   "outputs": [
    {
     "name": "stdout",
     "output_type": "stream",
     "text": [
      "root\n",
      " |-- Feature1: double (nullable = true)\n",
      " |-- Feature2: double (nullable = true)\n",
      " |-- Feature3: double (nullable = true)\n",
      " |-- Feature4: double (nullable = true)\n",
      " |-- Feature5: double (nullable = true)\n",
      " |-- Class: string (nullable = true)\n",
      "\n"
     ]
    }
   ],
   "source": [
    "pyspark_df.printSchema()"
   ]
  },
  {
   "cell_type": "markdown",
   "id": "dcef83b0",
   "metadata": {},
   "source": [
    "### Use the creditcard.csv"
   ]
  },
  {
   "cell_type": "code",
   "execution_count": 8,
   "id": "c0fa64c6",
   "metadata": {},
   "outputs": [
    {
     "name": "stdout",
     "output_type": "stream",
     "text": [
      "root\n",
      " |-- ID: integer (nullable = true)\n",
      " |-- PC1: double (nullable = true)\n",
      " |-- PC2: double (nullable = true)\n",
      " |-- PC3: double (nullable = true)\n",
      " |-- PC4: double (nullable = true)\n",
      " |-- PC5: double (nullable = true)\n",
      " |-- Class: integer (nullable = true)\n",
      "\n"
     ]
    }
   ],
   "source": [
    "schema = StructType([\n",
    "    StructField(\"ID\", IntegerType(), True),\n",
    "    StructField(\"PC1\", DoubleType(), True),\n",
    "    StructField(\"PC2\", DoubleType(), True),\n",
    "    StructField(\"PC3\", DoubleType(), True),\n",
    "    StructField(\"PC4\", DoubleType(), True),\n",
    "    StructField(\"PC5\", DoubleType(), True),\n",
    "    StructField(\"Class\", IntegerType(), True)\n",
    "])\n",
    "pyspark_df = spark.read.format('csv')\\\n",
    "                    .option('header',True)\\\n",
    "                    .schema(schema)\\\n",
    "                    .load('creditcard.csv')\n",
    "pyspark_df.printSchema()"
   ]
  },
  {
   "cell_type": "code",
   "execution_count": 9,
   "id": "5caf3dac",
   "metadata": {},
   "outputs": [
    {
     "data": {
      "text/plain": [
       "180"
      ]
     },
     "execution_count": 9,
     "metadata": {},
     "output_type": "execute_result"
    }
   ],
   "source": [
    "pyspark_df.filter(F.col('Class')==1).count()\n"
   ]
  },
  {
   "cell_type": "code",
   "execution_count": 10,
   "id": "950eb9f7",
   "metadata": {},
   "outputs": [
    {
     "data": {
      "text/plain": [
       "4520"
      ]
     },
     "execution_count": 10,
     "metadata": {},
     "output_type": "execute_result"
    }
   ],
   "source": [
    "pyspark_df.filter(F.col('Class')==0).count()"
   ]
  },
  {
   "cell_type": "markdown",
   "id": "a0142add",
   "metadata": {},
   "source": [
    "#### Split the data into train and test"
   ]
  },
  {
   "cell_type": "code",
   "execution_count": 11,
   "id": "7a34a773",
   "metadata": {},
   "outputs": [
    {
     "name": "stdout",
     "output_type": "stream",
     "text": [
      "Training Set Size: 3784\n",
      "Testing Set Size: 916\n",
      "Class B fraction in Training Set Size: 0.03646934460887949\n",
      "Class B fraction in Test Set Size: 0.04585152838427948\n"
     ]
    }
   ],
   "source": [
    "# Set the train/test ratio\n",
    "train_test_ratio = 0.8\n",
    "\n",
    "# Split the data into training and testing sets using stratified sampling\n",
    "train_data_class_b = pyspark_df.filter(F.col('Class')=='1').sample(fraction=train_test_ratio, seed=88)\n",
    "train_data_class_a = pyspark_df.filter(F.col('Class')=='0').sample(fraction=train_test_ratio, seed=88)\n",
    "train_data = train_data_class_a.union(train_data_class_b)\n",
    "\n",
    "test_data = pyspark_df.subtract(train_data)\n",
    "\n",
    "# Print the number of samples in each set\n",
    "print(\"Training Set Size:\", train_data.count())\n",
    "print(\"Testing Set Size:\", test_data.count())\n",
    "print(\"Class B fraction in Training Set Size:\", train_data.filter(F.col('Class')=='1').count()/train_data.count())\n",
    "print(\"Class B fraction in Test Set Size:\", test_data.filter(F.col('Class')=='1').count()/test_data.count())"
   ]
  },
  {
   "cell_type": "markdown",
   "id": "56335d89",
   "metadata": {},
   "source": [
    "### Create a Random Forest Classifier Model\n",
    "#### Prep the data by vectorizing it and stringindexing it"
   ]
  },
  {
   "cell_type": "code",
   "execution_count": 12,
   "id": "0871d1ea",
   "metadata": {},
   "outputs": [],
   "source": [
    "# Assemble the features into a Vector to feed the Model.\n",
    "feature_list = [\"PC1\",\"PC2\",\"PC3\",\"PC4\",\"PC5\"]\n",
    "assembler = VectorAssembler(inputCols=feature_list, outputCol='features_for_model')\n",
    "model_df1 = assembler.transform(train_data)\n",
    "\n",
    "# Convert the label from String to Numeric using a StringIndexer\n",
    "indexer = StringIndexer(inputCol='Class', outputCol='label')\n",
    "model_df2 = indexer.fit(model_df1).transform(model_df1)"
   ]
  },
  {
   "cell_type": "code",
   "execution_count": 13,
   "id": "7ce5759b",
   "metadata": {},
   "outputs": [
    {
     "data": {
      "text/html": [
       "<div>\n",
       "<style scoped>\n",
       "    .dataframe tbody tr th:only-of-type {\n",
       "        vertical-align: middle;\n",
       "    }\n",
       "\n",
       "    .dataframe tbody tr th {\n",
       "        vertical-align: top;\n",
       "    }\n",
       "\n",
       "    .dataframe thead th {\n",
       "        text-align: right;\n",
       "    }\n",
       "</style>\n",
       "<table border=\"1\" class=\"dataframe\">\n",
       "  <thead>\n",
       "    <tr style=\"text-align: right;\">\n",
       "      <th></th>\n",
       "      <th>ID</th>\n",
       "      <th>PC1</th>\n",
       "      <th>PC2</th>\n",
       "      <th>PC3</th>\n",
       "      <th>PC4</th>\n",
       "      <th>PC5</th>\n",
       "      <th>Class</th>\n",
       "      <th>features_for_model</th>\n",
       "    </tr>\n",
       "  </thead>\n",
       "  <tbody>\n",
       "    <tr>\n",
       "      <th>0</th>\n",
       "      <td>1</td>\n",
       "      <td>-56.875735</td>\n",
       "      <td>-29.555189</td>\n",
       "      <td>1.990487</td>\n",
       "      <td>0.535853</td>\n",
       "      <td>0.452358</td>\n",
       "      <td>0</td>\n",
       "      <td>[-56.87573501, -29.55518894, 1.990486881, 0.53...</td>\n",
       "    </tr>\n",
       "    <tr>\n",
       "      <th>1</th>\n",
       "      <td>2</td>\n",
       "      <td>-59.144792</td>\n",
       "      <td>-52.266486</td>\n",
       "      <td>9.616903</td>\n",
       "      <td>0.522322</td>\n",
       "      <td>-1.009143</td>\n",
       "      <td>0</td>\n",
       "      <td>[-59.14479234, -52.2664855, 9.616902797, 0.522...</td>\n",
       "    </tr>\n",
       "    <tr>\n",
       "      <th>2</th>\n",
       "      <td>4</td>\n",
       "      <td>-55.707948</td>\n",
       "      <td>-18.275413</td>\n",
       "      <td>16.567411</td>\n",
       "      <td>-0.237213</td>\n",
       "      <td>1.206393</td>\n",
       "      <td>0</td>\n",
       "      <td>[-55.70794783, -18.2754125, 16.56741097, -0.23...</td>\n",
       "    </tr>\n",
       "    <tr>\n",
       "      <th>3</th>\n",
       "      <td>5</td>\n",
       "      <td>96.888263</td>\n",
       "      <td>-49.836550</td>\n",
       "      <td>11.666317</td>\n",
       "      <td>-0.444835</td>\n",
       "      <td>-0.935363</td>\n",
       "      <td>0</td>\n",
       "      <td>[96.88826338, -49.8365497, 11.66631704, -0.444...</td>\n",
       "    </tr>\n",
       "    <tr>\n",
       "      <th>4</th>\n",
       "      <td>6</td>\n",
       "      <td>-53.126276</td>\n",
       "      <td>7.961177</td>\n",
       "      <td>-10.243002</td>\n",
       "      <td>-0.354893</td>\n",
       "      <td>0.562748</td>\n",
       "      <td>0</td>\n",
       "      <td>[-53.12627637, 7.961176875, -10.24300161, -0.3...</td>\n",
       "    </tr>\n",
       "  </tbody>\n",
       "</table>\n",
       "</div>"
      ],
      "text/plain": [
       "   ID        PC1        PC2        PC3       PC4       PC5  Class  \\\n",
       "0   1 -56.875735 -29.555189   1.990487  0.535853  0.452358      0   \n",
       "1   2 -59.144792 -52.266486   9.616903  0.522322 -1.009143      0   \n",
       "2   4 -55.707948 -18.275413  16.567411 -0.237213  1.206393      0   \n",
       "3   5  96.888263 -49.836550  11.666317 -0.444835 -0.935363      0   \n",
       "4   6 -53.126276   7.961177 -10.243002 -0.354893  0.562748      0   \n",
       "\n",
       "                                  features_for_model  \n",
       "0  [-56.87573501, -29.55518894, 1.990486881, 0.53...  \n",
       "1  [-59.14479234, -52.2664855, 9.616902797, 0.522...  \n",
       "2  [-55.70794783, -18.2754125, 16.56741097, -0.23...  \n",
       "3  [96.88826338, -49.8365497, 11.66631704, -0.444...  \n",
       "4  [-53.12627637, 7.961176875, -10.24300161, -0.3...  "
      ]
     },
     "execution_count": 13,
     "metadata": {},
     "output_type": "execute_result"
    }
   ],
   "source": [
    "# To see what model_df looks like (after Vector Assembler)\n",
    "model_df1.toPandas().head()"
   ]
  },
  {
   "cell_type": "code",
   "execution_count": 14,
   "id": "5e694a75",
   "metadata": {},
   "outputs": [
    {
     "data": {
      "text/html": [
       "<div>\n",
       "<style scoped>\n",
       "    .dataframe tbody tr th:only-of-type {\n",
       "        vertical-align: middle;\n",
       "    }\n",
       "\n",
       "    .dataframe tbody tr th {\n",
       "        vertical-align: top;\n",
       "    }\n",
       "\n",
       "    .dataframe thead th {\n",
       "        text-align: right;\n",
       "    }\n",
       "</style>\n",
       "<table border=\"1\" class=\"dataframe\">\n",
       "  <thead>\n",
       "    <tr style=\"text-align: right;\">\n",
       "      <th></th>\n",
       "      <th>ID</th>\n",
       "      <th>PC1</th>\n",
       "      <th>PC2</th>\n",
       "      <th>PC3</th>\n",
       "      <th>PC4</th>\n",
       "      <th>PC5</th>\n",
       "      <th>Class</th>\n",
       "      <th>features_for_model</th>\n",
       "      <th>label</th>\n",
       "    </tr>\n",
       "  </thead>\n",
       "  <tbody>\n",
       "    <tr>\n",
       "      <th>0</th>\n",
       "      <td>1</td>\n",
       "      <td>-56.875735</td>\n",
       "      <td>-29.555189</td>\n",
       "      <td>1.990487</td>\n",
       "      <td>0.535853</td>\n",
       "      <td>0.452358</td>\n",
       "      <td>0</td>\n",
       "      <td>[-56.87573501, -29.55518894, 1.990486881, 0.53...</td>\n",
       "      <td>0.0</td>\n",
       "    </tr>\n",
       "    <tr>\n",
       "      <th>1</th>\n",
       "      <td>2</td>\n",
       "      <td>-59.144792</td>\n",
       "      <td>-52.266486</td>\n",
       "      <td>9.616903</td>\n",
       "      <td>0.522322</td>\n",
       "      <td>-1.009143</td>\n",
       "      <td>0</td>\n",
       "      <td>[-59.14479234, -52.2664855, 9.616902797, 0.522...</td>\n",
       "      <td>0.0</td>\n",
       "    </tr>\n",
       "    <tr>\n",
       "      <th>2</th>\n",
       "      <td>4</td>\n",
       "      <td>-55.707948</td>\n",
       "      <td>-18.275413</td>\n",
       "      <td>16.567411</td>\n",
       "      <td>-0.237213</td>\n",
       "      <td>1.206393</td>\n",
       "      <td>0</td>\n",
       "      <td>[-55.70794783, -18.2754125, 16.56741097, -0.23...</td>\n",
       "      <td>0.0</td>\n",
       "    </tr>\n",
       "    <tr>\n",
       "      <th>3</th>\n",
       "      <td>5</td>\n",
       "      <td>96.888263</td>\n",
       "      <td>-49.836550</td>\n",
       "      <td>11.666317</td>\n",
       "      <td>-0.444835</td>\n",
       "      <td>-0.935363</td>\n",
       "      <td>0</td>\n",
       "      <td>[96.88826338, -49.8365497, 11.66631704, -0.444...</td>\n",
       "      <td>0.0</td>\n",
       "    </tr>\n",
       "    <tr>\n",
       "      <th>4</th>\n",
       "      <td>6</td>\n",
       "      <td>-53.126276</td>\n",
       "      <td>7.961177</td>\n",
       "      <td>-10.243002</td>\n",
       "      <td>-0.354893</td>\n",
       "      <td>0.562748</td>\n",
       "      <td>0</td>\n",
       "      <td>[-53.12627637, 7.961176875, -10.24300161, -0.3...</td>\n",
       "      <td>0.0</td>\n",
       "    </tr>\n",
       "  </tbody>\n",
       "</table>\n",
       "</div>"
      ],
      "text/plain": [
       "   ID        PC1        PC2        PC3       PC4       PC5  Class  \\\n",
       "0   1 -56.875735 -29.555189   1.990487  0.535853  0.452358      0   \n",
       "1   2 -59.144792 -52.266486   9.616903  0.522322 -1.009143      0   \n",
       "2   4 -55.707948 -18.275413  16.567411 -0.237213  1.206393      0   \n",
       "3   5  96.888263 -49.836550  11.666317 -0.444835 -0.935363      0   \n",
       "4   6 -53.126276   7.961177 -10.243002 -0.354893  0.562748      0   \n",
       "\n",
       "                                  features_for_model  label  \n",
       "0  [-56.87573501, -29.55518894, 1.990486881, 0.53...    0.0  \n",
       "1  [-59.14479234, -52.2664855, 9.616902797, 0.522...    0.0  \n",
       "2  [-55.70794783, -18.2754125, 16.56741097, -0.23...    0.0  \n",
       "3  [96.88826338, -49.8365497, 11.66631704, -0.444...    0.0  \n",
       "4  [-53.12627637, 7.961176875, -10.24300161, -0.3...    0.0  "
      ]
     },
     "execution_count": 14,
     "metadata": {},
     "output_type": "execute_result"
    }
   ],
   "source": [
    "# To see what model_df looks like (after StringIndexer) - Where Class = 0\n",
    "model_df2.filter(F.col('Class')==0).toPandas().head()"
   ]
  },
  {
   "cell_type": "code",
   "execution_count": 15,
   "id": "0924e381",
   "metadata": {},
   "outputs": [
    {
     "data": {
      "text/html": [
       "<div>\n",
       "<style scoped>\n",
       "    .dataframe tbody tr th:only-of-type {\n",
       "        vertical-align: middle;\n",
       "    }\n",
       "\n",
       "    .dataframe tbody tr th {\n",
       "        vertical-align: top;\n",
       "    }\n",
       "\n",
       "    .dataframe thead th {\n",
       "        text-align: right;\n",
       "    }\n",
       "</style>\n",
       "<table border=\"1\" class=\"dataframe\">\n",
       "  <thead>\n",
       "    <tr style=\"text-align: right;\">\n",
       "      <th></th>\n",
       "      <th>ID</th>\n",
       "      <th>PC1</th>\n",
       "      <th>PC2</th>\n",
       "      <th>PC3</th>\n",
       "      <th>PC4</th>\n",
       "      <th>PC5</th>\n",
       "      <th>Class</th>\n",
       "      <th>features_for_model</th>\n",
       "      <th>label</th>\n",
       "    </tr>\n",
       "  </thead>\n",
       "  <tbody>\n",
       "    <tr>\n",
       "      <th>0</th>\n",
       "      <td>2610</td>\n",
       "      <td>-50.079684</td>\n",
       "      <td>38.071020</td>\n",
       "      <td>-2.484333</td>\n",
       "      <td>1.845887</td>\n",
       "      <td>-0.877830</td>\n",
       "      <td>1</td>\n",
       "      <td>[-50.07968427, 38.07101971, -2.484332666, 1.84...</td>\n",
       "      <td>1.0</td>\n",
       "    </tr>\n",
       "    <tr>\n",
       "      <th>1</th>\n",
       "      <td>2612</td>\n",
       "      <td>-47.268010</td>\n",
       "      <td>65.950089</td>\n",
       "      <td>-0.339218</td>\n",
       "      <td>-0.135063</td>\n",
       "      <td>-0.750094</td>\n",
       "      <td>1</td>\n",
       "      <td>[-47.26801012, 65.9500888, -0.339218025, -0.13...</td>\n",
       "      <td>1.0</td>\n",
       "    </tr>\n",
       "    <tr>\n",
       "      <th>2</th>\n",
       "      <td>2656</td>\n",
       "      <td>478.495943</td>\n",
       "      <td>77.750641</td>\n",
       "      <td>-28.507607</td>\n",
       "      <td>0.599897</td>\n",
       "      <td>-0.632535</td>\n",
       "      <td>1</td>\n",
       "      <td>[478.4959434, 77.75064085, -28.50760678, 0.599...</td>\n",
       "      <td>1.0</td>\n",
       "    </tr>\n",
       "    <tr>\n",
       "      <th>3</th>\n",
       "      <td>2668</td>\n",
       "      <td>255.421958</td>\n",
       "      <td>67.612600</td>\n",
       "      <td>-0.365628</td>\n",
       "      <td>-2.613926</td>\n",
       "      <td>0.825994</td>\n",
       "      <td>1</td>\n",
       "      <td>[255.4219576, 67.61260005, -0.365627643, -2.61...</td>\n",
       "      <td>1.0</td>\n",
       "    </tr>\n",
       "    <tr>\n",
       "      <th>4</th>\n",
       "      <td>2670</td>\n",
       "      <td>-48.237714</td>\n",
       "      <td>56.611720</td>\n",
       "      <td>-14.262100</td>\n",
       "      <td>-1.983010</td>\n",
       "      <td>-0.695295</td>\n",
       "      <td>1</td>\n",
       "      <td>[-48.23771432, 56.61172029, -14.26209973, -1.9...</td>\n",
       "      <td>1.0</td>\n",
       "    </tr>\n",
       "  </tbody>\n",
       "</table>\n",
       "</div>"
      ],
      "text/plain": [
       "     ID         PC1        PC2        PC3       PC4       PC5  Class  \\\n",
       "0  2610  -50.079684  38.071020  -2.484333  1.845887 -0.877830      1   \n",
       "1  2612  -47.268010  65.950089  -0.339218 -0.135063 -0.750094      1   \n",
       "2  2656  478.495943  77.750641 -28.507607  0.599897 -0.632535      1   \n",
       "3  2668  255.421958  67.612600  -0.365628 -2.613926  0.825994      1   \n",
       "4  2670  -48.237714  56.611720 -14.262100 -1.983010 -0.695295      1   \n",
       "\n",
       "                                  features_for_model  label  \n",
       "0  [-50.07968427, 38.07101971, -2.484332666, 1.84...    1.0  \n",
       "1  [-47.26801012, 65.9500888, -0.339218025, -0.13...    1.0  \n",
       "2  [478.4959434, 77.75064085, -28.50760678, 0.599...    1.0  \n",
       "3  [255.4219576, 67.61260005, -0.365627643, -2.61...    1.0  \n",
       "4  [-48.23771432, 56.61172029, -14.26209973, -1.9...    1.0  "
      ]
     },
     "execution_count": 15,
     "metadata": {},
     "output_type": "execute_result"
    }
   ],
   "source": [
    "# To see what model_df looks like (after StringIndexer) - Where Class = 1\n",
    "model_df2.filter(F.col('Class')==1).toPandas().head()"
   ]
  },
  {
   "cell_type": "code",
   "execution_count": 16,
   "id": "14ce4ce1",
   "metadata": {},
   "outputs": [],
   "source": [
    "def preprocess_data(df):\n",
    "    # Assemble the features into a Vector to feed the Model.\n",
    "    feature_list = [\"PC1\",\"PC2\",\"PC3\",\"PC4\",\"PC5\"]\n",
    "    assembler = VectorAssembler(inputCols=feature_list, outputCol='features_for_model')\n",
    "    model_df1 = assembler.transform(df)\n",
    "\n",
    "    # Convert the label from String to Numeric using a StringIndexer\n",
    "    indexer = StringIndexer(inputCol='Class', outputCol='label')\n",
    "    model_df2 = indexer.fit(model_df1).transform(model_df1)\n",
    "    \n",
    "    return model_df2\n",
    "\n",
    "def train_model(train_df, smote=0):\n",
    "    if smote == 0:\n",
    "        model_df = preprocess_data(train_df)\n",
    "    elif smote == 1:\n",
    "        model_df = train_df\n",
    "    \n",
    "    # Initiate the Random Forest Classifier Model\n",
    "    rf = RandomForestClassifier(featuresCol='features_for_model', labelCol='label', seed=88)\n",
    "    rf_model = rf.fit(model_df)\n",
    "    \n",
    "    return rf_model\n",
    "\n",
    "def test_model(test_df, model):\n",
    "    model_df = preprocess_data(test_df)\n",
    "    \n",
    "    prediction = model.transform(model_df)\n",
    "    \n",
    "    return prediction"
   ]
  },
  {
   "cell_type": "code",
   "execution_count": 17,
   "id": "fda515f5",
   "metadata": {},
   "outputs": [],
   "source": [
    "# Initiate the Random Forest Classifier Model\n",
    "rf_model = train_model(train_data)"
   ]
  },
  {
   "cell_type": "code",
   "execution_count": 18,
   "id": "a105a4be",
   "metadata": {},
   "outputs": [
    {
     "name": "stdout",
     "output_type": "stream",
     "text": [
      "     ID        PC1         PC2        PC3       PC4       PC5  Class  \\\n",
      "0   727 -56.935983  -29.878792 -10.735008 -0.233838  0.484281      0   \n",
      "1  1857 -42.351534  115.220109 -19.933270 -1.546045  0.820138      0   \n",
      "2  3075 -51.464295   24.184253   2.798403 -1.198078 -0.085652      0   \n",
      "3  3683 -50.929984   29.367443   9.043517  1.190360  0.541220      1   \n",
      "4  3950 -54.929487   -9.968973  -9.808559 -1.371793 -0.849817      0   \n",
      "\n",
      "                                  features_for_model  label  \\\n",
      "0  [-56.93598264, -29.87879217, -10.7350075, -0.2...    0.0   \n",
      "1  [-42.35153363, 115.220109, -19.93326977, -1.54...    0.0   \n",
      "2  [-51.46429473, 24.18425294, 2.798403104, -1.19...    0.0   \n",
      "3  [-50.92998423, 29.36744284, 9.043517166, 1.190...    1.0   \n",
      "4  [-54.92948737, -9.968972732, -9.808558912, -1....    0.0   \n",
      "\n",
      "                               rawPrediction  \\\n",
      "0  [19.98801086803672, 0.011989131963278768]   \n",
      "1    [15.638830851400103, 4.361169148599899]   \n",
      "2  [19.858037000836156, 0.14196299916384544]   \n",
      "3    [17.451960789560832, 2.548039210439167]   \n",
      "4  [19.98801086803672, 0.011989131963278768]   \n",
      "\n",
      "                                  probability  prediction  \n",
      "0  [0.999400543401836, 0.0005994565981639384]         0.0  \n",
      "1   [0.7819415425700051, 0.21805845742999494]         0.0  \n",
      "2  [0.9929018500418078, 0.007098149958192272]         0.0  \n",
      "3   [0.8725980394780416, 0.12740196052195835]         0.0  \n",
      "4  [0.999400543401836, 0.0005994565981639384]         0.0  \n"
     ]
    }
   ],
   "source": [
    "# Test the Model\n",
    "prediction = test_model(test_data, rf_model)\n",
    "\n",
    "# To see what the output looks like. There will be additional columns.\n",
    "# rawPrediction, probability, prediction\n",
    "print(prediction.toPandas().head())"
   ]
  },
  {
   "cell_type": "code",
   "execution_count": 19,
   "id": "ed8b3d40",
   "metadata": {},
   "outputs": [
    {
     "name": "stdout",
     "output_type": "stream",
     "text": [
      "AUROC: 0.9282309033453198\n",
      "AUPR: 0.36244362221306214\n"
     ]
    }
   ],
   "source": [
    "# Evaluate the model using a BinaryClassificationEvaluator\n",
    "evaluator = BinaryClassificationEvaluator(labelCol='label')\n",
    "auroc = evaluator.evaluate(prediction,{evaluator.metricName:'areaUnderROC'})\n",
    "aupr = evaluator.evaluate(prediction,{evaluator.metricName:'areaUnderPR'})\n",
    "\n",
    "print(f\"AUROC: {auroc}\")\n",
    "print(f\"AUPR: {aupr}\")"
   ]
  },
  {
   "cell_type": "code",
   "execution_count": 20,
   "id": "96377712",
   "metadata": {},
   "outputs": [
    {
     "name": "stderr",
     "output_type": "stream",
     "text": [
      "C:\\Users\\lim\\.conda\\envs\\rip\\lib\\site-packages\\pyspark\\sql\\context.py:157: FutureWarning: Deprecated in 3.0.0. Use SparkSession.builder.getOrCreate() instead.\n",
      "  warnings.warn(\n"
     ]
    },
    {
     "name": "stdout",
     "output_type": "stream",
     "text": [
      "Accuracy: 0.9563318777292577\n",
      "Precision: 1.0\n",
      "Recall: 0.047619047619047616\n",
      "F1-score: 0.0909090909090909\n"
     ]
    }
   ],
   "source": [
    "# Evaluate using MultiClass Metrics\n",
    "pred_rdd = prediction.select('prediction','label').rdd.map(tuple)\n",
    "metrics = MulticlassMetrics(pred_rdd)\n",
    "accuracy_o = metrics.accuracy   # Positive class\n",
    "precision_o = metrics.precision(1.0)  # Positive class\n",
    "recall_o = metrics.recall(1.0)  # Positive class\n",
    "f1_o = metrics.fMeasure(1.0)  # Positive class\n",
    "\n",
    "print(\"Accuracy:\", accuracy_o)\n",
    "print(\"Precision:\", precision_o)\n",
    "print(\"Recall:\", recall_o)\n",
    "print(\"F1-score:\", f1_o)"
   ]
  },
  {
   "cell_type": "code",
   "execution_count": 21,
   "id": "e9c1543b",
   "metadata": {},
   "outputs": [
    {
     "name": "stdout",
     "output_type": "stream",
     "text": [
      "DenseMatrix([[874.,   0.],\n",
      "             [ 40.,   2.]])\n"
     ]
    },
    {
     "name": "stderr",
     "output_type": "stream",
     "text": [
      "C:\\Users\\lim\\AppData\\Local\\Temp\\ipykernel_61884\\1843384171.py:15: UserWarning: set_ticklabels() should only be used with a fixed number of ticks, i.e. after set_ticks() or using a FixedLocator.\n",
      "  ax.set_xticklabels([''] + labels)\n",
      "C:\\Users\\lim\\AppData\\Local\\Temp\\ipykernel_61884\\1843384171.py:16: UserWarning: set_ticklabels() should only be used with a fixed number of ticks, i.e. after set_ticks() or using a FixedLocator.\n",
      "  ax.set_yticklabels([''] + labels)\n"
     ]
    },
    {
     "data": {
      "image/png": "[encoded data removed]",
      "text/plain": [
       "<Figure size 640x480 with 2 Axes>"
      ]
     },
     "metadata": {},
     "output_type": "display_data"
    }
   ],
   "source": [
    "# Returns confusion matrix: predicted classes are in columns, they are ordered by class label ascending, as in “labels”.\n",
    "# Meaning 0 1 in columns. Rows also 0 then 1.\n",
    "print(metrics.confusionMatrix())\n",
    "\n",
    "confusion_matrix = metrics.confusionMatrix().toArray()\n",
    "labels = ['Class 0', 'Class 1']\n",
    "fig = plt.figure()\n",
    "ax = fig.add_subplot(111)\n",
    "cax = ax.matshow(confusion_matrix, cmap=plt.cm.Blues)\n",
    "# Add actual values to the cells\n",
    "for i in range(len(labels)):\n",
    "    for j in range(len(labels)):\n",
    "        plt.text(j, i, str(int(confusion_matrix[i, j])), fontsize=12, ha='center', va='center', color='red')\n",
    "fig.colorbar(cax)\n",
    "ax.set_xticklabels([''] + labels)\n",
    "ax.set_yticklabels([''] + labels)\n",
    "plt.xlabel('Predicted')\n",
    "plt.ylabel('Expected')\n",
    "plt.show()\n"
   ]
  },
  {
   "cell_type": "code",
   "execution_count": 22,
   "id": "b543d7ca",
   "metadata": {},
   "outputs": [
    {
     "name": "stdout",
     "output_type": "stream",
     "text": [
      "TN: 874\n",
      "TP: 2\n",
      "FP: 0\n",
      "FN: 40\n"
     ]
    }
   ],
   "source": [
    "# Traditional way to evaluate TN/TP/FP/FN\n",
    "# Countercheck with confusion matrix above.\n",
    "tn = prediction.filter((F.col('label')==0)&(F.col('prediction')==0)).count()\n",
    "tp = prediction.filter((F.col('label')==1)&(F.col('prediction')==1)).count()\n",
    "fp = prediction.filter((F.col('label')==0)&(F.col('prediction')==1)).count()\n",
    "fn = prediction.filter((F.col('label')==1)&(F.col('prediction')==0)).count()\n",
    "\n",
    "print(f\"TN: {tn}\")\n",
    "print(f\"TP: {tp}\")\n",
    "print(f\"FP: {fp}\")\n",
    "print(f\"FN: {fn}\")"
   ]
  },
  {
   "cell_type": "markdown",
   "id": "8b55cc2d",
   "metadata": {},
   "source": [
    "Based on the above information, it is very clear that even though there is a high accuracy, the high accuracy is derived from the high amount of True Negatives.\n",
    "Formula for Accuracy is (TP+TN) / (TP+TN+FP+FN)\n",
    "We want to correctly predict class B and we want to get as high of a True Positive as we can.\n",
    "We are currently getting 0 True Positives so the model is not working at all."
   ]
  },
  {
   "cell_type": "markdown",
   "id": "2111adf2",
   "metadata": {},
   "source": [
    "### Undersampling Majority"
   ]
  },
  {
   "cell_type": "code",
   "execution_count": 23,
   "id": "fc4c37ae",
   "metadata": {},
   "outputs": [],
   "source": [
    "# Create undersampling function\n",
    "def undersample_majority(df, ratio=1):\n",
    "    '''\n",
    "    ratio is the ratio of majority to minority\n",
    "    Eg. ratio 1 is equivalent to majority:minority = 1:1\n",
    "    ratio 5 is equivalent to majority:minority = 5:1\n",
    "    '''\n",
    "    minority_count = df.filter(F.col('class')==1).count()\n",
    "    whole_count = df.count()\n",
    "    undersampled_majority = df.filter(F.col('class')==0)\\\n",
    "                                .sample(withReplacement=False, fraction=(ratio*minority_count/whole_count),seed=88)\n",
    "    undersampled_df = df.filter(F.col('class')==1).union(undersampled_majority)\n",
    "    \n",
    "    return undersampled_df"
   ]
  },
  {
   "cell_type": "code",
   "execution_count": 24,
   "id": "c29685d4",
   "metadata": {},
   "outputs": [],
   "source": [
    "# Create evaluation function\n",
    "def evaluate_test_data(test_df, model):\n",
    "    model_df = preprocess_data(test_df)\n",
    "    prediction = model.transform(model_df)\n",
    "    \n",
    "    # Evaluate the model using a BinaryClassificationEvaluator\n",
    "    evaluator = BinaryClassificationEvaluator(labelCol='label')\n",
    "    auroc = evaluator.evaluate(prediction,{evaluator.metricName:'areaUnderROC'})\n",
    "    aupr = evaluator.evaluate(prediction,{evaluator.metricName:'areaUnderPR'})\n",
    "\n",
    "    print(f\"AUROC: {auroc}\")\n",
    "    print(f\"AUPR: {aupr}\")\n",
    "    \n",
    "    # Evaluate using MultiClass Metrics\n",
    "    pred_rdd = prediction.select('prediction','label').rdd.map(tuple)\n",
    "    metrics = MulticlassMetrics(pred_rdd)\n",
    "    accuracy_o = metrics.accuracy   # Positive class\n",
    "    precision_o = metrics.precision(1.0)  # Positive class\n",
    "    recall_o = metrics.recall(1.0)  # Positive class\n",
    "    f1_o = metrics.fMeasure(1.0)  # Positive class\n",
    "\n",
    "    print(\"Accuracy:\", accuracy_o)\n",
    "    print(\"Precision:\", precision_o)\n",
    "    print(\"Recall:\", recall_o)\n",
    "    print(\"F1-score:\", f1_o)\n",
    "    \n",
    "    confusion_matrix = metrics.confusionMatrix().toArray()\n",
    "    labels = ['Class 0', 'Class 1']\n",
    "    fig = plt.figure()\n",
    "    ax = fig.add_subplot(111)\n",
    "    cax = ax.matshow(confusion_matrix, cmap=plt.cm.Blues)\n",
    "    # Add actual values to the cells\n",
    "    for i in range(len(labels)):\n",
    "        for j in range(len(labels)):\n",
    "            plt.text(j, i, str(int(confusion_matrix[i, j])), fontsize=12, ha='center', va='center', color='red')\n",
    "    fig.colorbar(cax)\n",
    "    ax.set_xticklabels([''] + labels)\n",
    "    ax.set_yticklabels([''] + labels)\n",
    "    plt.xlabel('Predicted')\n",
    "    plt.ylabel('Expected')\n",
    "    plt.show()\n",
    "\n",
    "    # Traditional way to evaluate TN/TP/FP/FN\n",
    "    # Countercheck with confusion matrix above.\n",
    "    tn = prediction.filter((F.col('label')==0)&(F.col('prediction')==0)).count()\n",
    "    tp = prediction.filter((F.col('label')==1)&(F.col('prediction')==1)).count()\n",
    "    fp = prediction.filter((F.col('label')==0)&(F.col('prediction')==1)).count()\n",
    "    fn = prediction.filter((F.col('label')==1)&(F.col('prediction')==0)).count()\n",
    "\n",
    "    print(f\"TN: {tn}\")\n",
    "    print(f\"TP: {tp}\")\n",
    "    print(f\"FP: {fp}\")\n",
    "    print(f\"FN: {fn}\")\n",
    "    \n",
    "    "
   ]
  },
  {
   "cell_type": "code",
   "execution_count": 25,
   "id": "4372befe",
   "metadata": {},
   "outputs": [
    {
     "name": "stdout",
     "output_type": "stream",
     "text": [
      "AUROC: 0.08808706548981148\n",
      "AUPR: 0.024684265955264798\n"
     ]
    },
    {
     "name": "stderr",
     "output_type": "stream",
     "text": [
      "C:\\Users\\lim\\.conda\\envs\\rip\\lib\\site-packages\\pyspark\\sql\\context.py:157: FutureWarning: Deprecated in 3.0.0. Use SparkSession.builder.getOrCreate() instead.\n",
      "  warnings.warn(\n"
     ]
    },
    {
     "name": "stdout",
     "output_type": "stream",
     "text": [
      "Accuracy: 0.22489082969432314\n",
      "Precision: 0.0\n",
      "Recall: 0.0\n",
      "F1-score: 0.0\n"
     ]
    },
    {
     "name": "stderr",
     "output_type": "stream",
     "text": [
      "C:\\Users\\lim\\AppData\\Local\\Temp\\ipykernel_61884\\2982799809.py:37: UserWarning: set_ticklabels() should only be used with a fixed number of ticks, i.e. after set_ticks() or using a FixedLocator.\n",
      "  ax.set_xticklabels([''] + labels)\n",
      "C:\\Users\\lim\\AppData\\Local\\Temp\\ipykernel_61884\\2982799809.py:38: UserWarning: set_ticklabels() should only be used with a fixed number of ticks, i.e. after set_ticks() or using a FixedLocator.\n",
      "  ax.set_yticklabels([''] + labels)\n"
     ]
    },
    {
     "data": {
      "image/png": "[encoded data removed]",
      "text/plain": [
       "<Figure size 640x480 with 2 Axes>"
      ]
     },
     "metadata": {},
     "output_type": "display_data"
    },
    {
     "name": "stdout",
     "output_type": "stream",
     "text": [
      "TN: 206\n",
      "TP: 0\n",
      "FP: 668\n",
      "FN: 42\n"
     ]
    }
   ],
   "source": [
    "# Evaluate Undersampling 1:1\n",
    "undersampled_train_df_1_1 = undersample_majority(train_data,1)\n",
    "rf_model1 = train_model(undersampled_train_df_1_1)\n",
    "evaluate_test_data(test_data, rf_model1)"
   ]
  },
  {
   "cell_type": "code",
   "execution_count": 26,
   "id": "3a6cd76c",
   "metadata": {},
   "outputs": [
    {
     "name": "stdout",
     "output_type": "stream",
     "text": [
      "AUROC: 0.9185463659147869\n",
      "AUPR: 0.2207557575315765\n"
     ]
    },
    {
     "name": "stderr",
     "output_type": "stream",
     "text": [
      "C:\\Users\\lim\\.conda\\envs\\rip\\lib\\site-packages\\pyspark\\sql\\context.py:157: FutureWarning: Deprecated in 3.0.0. Use SparkSession.builder.getOrCreate() instead.\n",
      "  warnings.warn(\n"
     ]
    },
    {
     "name": "stdout",
     "output_type": "stream",
     "text": [
      "Accuracy: 0.8275109170305677\n",
      "Precision: 0.20103092783505155\n",
      "Recall: 0.9285714285714286\n",
      "F1-score: 0.3305084745762712\n"
     ]
    },
    {
     "name": "stderr",
     "output_type": "stream",
     "text": [
      "C:\\Users\\lim\\AppData\\Local\\Temp\\ipykernel_61884\\2982799809.py:37: UserWarning: set_ticklabels() should only be used with a fixed number of ticks, i.e. after set_ticks() or using a FixedLocator.\n",
      "  ax.set_xticklabels([''] + labels)\n",
      "C:\\Users\\lim\\AppData\\Local\\Temp\\ipykernel_61884\\2982799809.py:38: UserWarning: set_ticklabels() should only be used with a fixed number of ticks, i.e. after set_ticks() or using a FixedLocator.\n",
      "  ax.set_yticklabels([''] + labels)\n"
     ]
    },
    {
     "data": {
      "image/png": "[encoded data removed]",
      "text/plain": [
       "<Figure size 640x480 with 2 Axes>"
      ]
     },
     "metadata": {},
     "output_type": "display_data"
    },
    {
     "name": "stdout",
     "output_type": "stream",
     "text": [
      "TN: 719\n",
      "TP: 39\n",
      "FP: 155\n",
      "FN: 3\n"
     ]
    }
   ],
   "source": [
    "# Evaluate Undersampling 1:2\n",
    "undersampled_train_df_1_2 = undersample_majority(train_data,2)\n",
    "rf_model2 = train_model(undersampled_train_df_1_2)\n",
    "evaluate_test_data(test_data, rf_model2)"
   ]
  },
  {
   "cell_type": "code",
   "execution_count": 27,
   "id": "ecc4c9b8",
   "metadata": {},
   "outputs": [
    {
     "name": "stdout",
     "output_type": "stream",
     "text": [
      "AUROC: 0.9148005884275906\n",
      "AUPR: 0.21517514062693147\n"
     ]
    },
    {
     "name": "stderr",
     "output_type": "stream",
     "text": [
      "C:\\Users\\lim\\.conda\\envs\\rip\\lib\\site-packages\\pyspark\\sql\\context.py:157: FutureWarning: Deprecated in 3.0.0. Use SparkSession.builder.getOrCreate() instead.\n",
      "  warnings.warn(\n"
     ]
    },
    {
     "name": "stdout",
     "output_type": "stream",
     "text": [
      "Accuracy: 0.888646288209607\n",
      "Precision: 0.25\n",
      "Recall: 0.7142857142857143\n",
      "F1-score: 0.37037037037037035\n"
     ]
    },
    {
     "name": "stderr",
     "output_type": "stream",
     "text": [
      "C:\\Users\\lim\\AppData\\Local\\Temp\\ipykernel_61884\\2982799809.py:37: UserWarning: set_ticklabels() should only be used with a fixed number of ticks, i.e. after set_ticks() or using a FixedLocator.\n",
      "  ax.set_xticklabels([''] + labels)\n",
      "C:\\Users\\lim\\AppData\\Local\\Temp\\ipykernel_61884\\2982799809.py:38: UserWarning: set_ticklabels() should only be used with a fixed number of ticks, i.e. after set_ticks() or using a FixedLocator.\n",
      "  ax.set_yticklabels([''] + labels)\n"
     ]
    },
    {
     "data": {
      "image/png": "[encoded data removed]",
      "text/plain": [
       "<Figure size 640x480 with 2 Axes>"
      ]
     },
     "metadata": {},
     "output_type": "display_data"
    },
    {
     "name": "stdout",
     "output_type": "stream",
     "text": [
      "TN: 784\n",
      "TP: 30\n",
      "FP: 90\n",
      "FN: 12\n"
     ]
    }
   ],
   "source": [
    "# Evaluate Undersampling 1:5\n",
    "undersampled_train_df_1_5 = undersample_majority(train_data,5)\n",
    "rf_model3 = train_model(undersampled_train_df_1_5)\n",
    "evaluate_test_data(test_data, rf_model3)"
   ]
  },
  {
   "cell_type": "markdown",
   "id": "8f851967",
   "metadata": {},
   "source": [
    "### Oversampling Minority"
   ]
  },
  {
   "cell_type": "code",
   "execution_count": 28,
   "id": "3524048a",
   "metadata": {},
   "outputs": [],
   "source": [
    "# Create undersampling function\n",
    "def oversample_minority(df, ratio=1):\n",
    "    '''\n",
    "    ratio is the ratio of majority to minority\n",
    "    Eg. ratio 1 is equivalent to majority:minority = 1:1\n",
    "    ratio 5 is equivalent to majority:minority = 5:1\n",
    "    '''\n",
    "    minority_count = df.filter(F.col('class')==1).count()\n",
    "    majority_count = df.filter(F.col('class')==0).count()\n",
    "    \n",
    "    balance_ratio = majority_count / minority_count\n",
    "    \n",
    "    print(f\"Initial Majority:Minority ratio is {balance_ratio:.2f}:1\")\n",
    "    if ratio >= balance_ratio:\n",
    "        print(\"No oversampling of minority was done as the input ratio was more than or equal to the initial ratio.\")\n",
    "    else:\n",
    "        print(f\"Oversampling of minority done such that Majority:Minority ratio is {ratio}:1\")\n",
    "    \n",
    "    oversampled_minority = df.filter(F.col('class')==1)\\\n",
    "                                .sample(withReplacement=True, fraction=(balance_ratio/ratio),seed=88)\n",
    "    oversampled_df = df.filter(F.col('class')==0).union(oversampled_minority)\n",
    "    \n",
    "    return oversampled_df"
   ]
  },
  {
   "cell_type": "code",
   "execution_count": 29,
   "id": "f149ab80",
   "metadata": {},
   "outputs": [
    {
     "name": "stdout",
     "output_type": "stream",
     "text": [
      "Initial Majority:Minority ratio is 26.42:1\n",
      "Oversampling of minority done such that Majority:Minority ratio is 1:1\n",
      "AUROC: 0.9120627656096764\n",
      "AUPR: 0.2678383418518252\n"
     ]
    },
    {
     "name": "stderr",
     "output_type": "stream",
     "text": [
      "C:\\Users\\lim\\.conda\\envs\\rip\\lib\\site-packages\\pyspark\\sql\\context.py:157: FutureWarning: Deprecated in 3.0.0. Use SparkSession.builder.getOrCreate() instead.\n",
      "  warnings.warn(\n"
     ]
    },
    {
     "name": "stdout",
     "output_type": "stream",
     "text": [
      "Accuracy: 0.8668122270742358\n",
      "Precision: 0.22602739726027396\n",
      "Recall: 0.7857142857142857\n",
      "F1-score: 0.35106382978723405\n"
     ]
    },
    {
     "name": "stderr",
     "output_type": "stream",
     "text": [
      "C:\\Users\\lim\\AppData\\Local\\Temp\\ipykernel_61884\\2982799809.py:37: UserWarning: set_ticklabels() should only be used with a fixed number of ticks, i.e. after set_ticks() or using a FixedLocator.\n",
      "  ax.set_xticklabels([''] + labels)\n",
      "C:\\Users\\lim\\AppData\\Local\\Temp\\ipykernel_61884\\2982799809.py:38: UserWarning: set_ticklabels() should only be used with a fixed number of ticks, i.e. after set_ticks() or using a FixedLocator.\n",
      "  ax.set_yticklabels([''] + labels)\n"
     ]
    },
    {
     "data": {
      "image/png": "[encoded data removed]",
      "text/plain": [
       "<Figure size 640x480 with 2 Axes>"
      ]
     },
     "metadata": {},
     "output_type": "display_data"
    },
    {
     "name": "stdout",
     "output_type": "stream",
     "text": [
      "TN: 761\n",
      "TP: 33\n",
      "FP: 113\n",
      "FN: 9\n"
     ]
    }
   ],
   "source": [
    "# Train 3 different oversamplings\n",
    "# Evaluate Oversampling 1:1\n",
    "oversampled_train_df_1_1 = oversample_minority(train_data,1)\n",
    "rf_model4 = train_model(oversampled_train_df_1_1)\n",
    "evaluate_test_data(test_data, rf_model4)"
   ]
  },
  {
   "cell_type": "code",
   "execution_count": 30,
   "id": "67090eba",
   "metadata": {},
   "outputs": [
    {
     "name": "stdout",
     "output_type": "stream",
     "text": [
      "Initial Majority:Minority ratio is 26.42:1\n",
      "Oversampling of minority done such that Majority:Minority ratio is 2:1\n",
      "AUROC: 0.9074043805165087\n",
      "AUPR: 0.21591344273582252\n"
     ]
    },
    {
     "name": "stderr",
     "output_type": "stream",
     "text": [
      "C:\\Users\\lim\\.conda\\envs\\rip\\lib\\site-packages\\pyspark\\sql\\context.py:157: FutureWarning: Deprecated in 3.0.0. Use SparkSession.builder.getOrCreate() instead.\n",
      "  warnings.warn(\n"
     ]
    },
    {
     "name": "stdout",
     "output_type": "stream",
     "text": [
      "Accuracy: 0.8733624454148472\n",
      "Precision: 0.22388059701492538\n",
      "Recall: 0.7142857142857143\n",
      "F1-score: 0.34090909090909094\n"
     ]
    },
    {
     "name": "stderr",
     "output_type": "stream",
     "text": [
      "C:\\Users\\lim\\AppData\\Local\\Temp\\ipykernel_61884\\2982799809.py:37: UserWarning: set_ticklabels() should only be used with a fixed number of ticks, i.e. after set_ticks() or using a FixedLocator.\n",
      "  ax.set_xticklabels([''] + labels)\n",
      "C:\\Users\\lim\\AppData\\Local\\Temp\\ipykernel_61884\\2982799809.py:38: UserWarning: set_ticklabels() should only be used with a fixed number of ticks, i.e. after set_ticks() or using a FixedLocator.\n",
      "  ax.set_yticklabels([''] + labels)\n"
     ]
    },
    {
     "data": {
      "image/png": "[encoded data removed]",
      "text/plain": [
       "<Figure size 640x480 with 2 Axes>"
      ]
     },
     "metadata": {},
     "output_type": "display_data"
    },
    {
     "name": "stdout",
     "output_type": "stream",
     "text": [
      "TN: 770\n",
      "TP: 30\n",
      "FP: 104\n",
      "FN: 12\n"
     ]
    }
   ],
   "source": [
    "# Evaluate Oversampling 1:2\n",
    "oversampled_train_df_1_2 = oversample_minority(train_data,2)\n",
    "rf_model5 = train_model(oversampled_train_df_1_2)\n",
    "evaluate_test_data(test_data, rf_model5)"
   ]
  },
  {
   "cell_type": "code",
   "execution_count": 31,
   "id": "84c74a24",
   "metadata": {},
   "outputs": [
    {
     "name": "stdout",
     "output_type": "stream",
     "text": [
      "Initial Majority:Minority ratio is 26.42:1\n",
      "Oversampling of minority done such that Majority:Minority ratio is 5:1\n",
      "AUROC: 0.9201808870001089\n",
      "AUPR: 0.2822229042105263\n"
     ]
    },
    {
     "name": "stderr",
     "output_type": "stream",
     "text": [
      "C:\\Users\\lim\\.conda\\envs\\rip\\lib\\site-packages\\pyspark\\sql\\context.py:157: FutureWarning: Deprecated in 3.0.0. Use SparkSession.builder.getOrCreate() instead.\n",
      "  warnings.warn(\n"
     ]
    },
    {
     "name": "stdout",
     "output_type": "stream",
     "text": [
      "Accuracy: 0.8842794759825328\n",
      "Precision: 0.23770491803278687\n",
      "Recall: 0.6904761904761905\n",
      "F1-score: 0.35365853658536583\n"
     ]
    },
    {
     "name": "stderr",
     "output_type": "stream",
     "text": [
      "C:\\Users\\lim\\AppData\\Local\\Temp\\ipykernel_61884\\2982799809.py:37: UserWarning: set_ticklabels() should only be used with a fixed number of ticks, i.e. after set_ticks() or using a FixedLocator.\n",
      "  ax.set_xticklabels([''] + labels)\n",
      "C:\\Users\\lim\\AppData\\Local\\Temp\\ipykernel_61884\\2982799809.py:38: UserWarning: set_ticklabels() should only be used with a fixed number of ticks, i.e. after set_ticks() or using a FixedLocator.\n",
      "  ax.set_yticklabels([''] + labels)\n"
     ]
    },
    {
     "data": {
      "image/png": "[encoded data removed]",
      "text/plain": [
       "<Figure size 640x480 with 2 Axes>"
      ]
     },
     "metadata": {},
     "output_type": "display_data"
    },
    {
     "name": "stdout",
     "output_type": "stream",
     "text": [
      "TN: 781\n",
      "TP: 29\n",
      "FP: 93\n",
      "FN: 13\n"
     ]
    }
   ],
   "source": [
    "# Evaluate Oversampling 1:5\n",
    "oversampled_train_df_1_5 = oversample_minority(train_data,5)\n",
    "rf_model6 = train_model(oversampled_train_df_1_5)\n",
    "evaluate_test_data(test_data, rf_model6)"
   ]
  },
  {
   "cell_type": "markdown",
   "id": "ff10abb0",
   "metadata": {},
   "source": [
    "### Oversampling using SMOTE (Synthetic Minority Over-Sampling Technique)"
   ]
  },
  {
   "cell_type": "code",
   "execution_count": 32,
   "id": "bc4dd3ab",
   "metadata": {},
   "outputs": [],
   "source": [
    "## Used the code from below:\n",
    "## https://medium.com/@hwangdb/smote-implementation-in-pyspark-76ec4ffa2f1d\n",
    "## https://gist.github.com/hwang018/420e288021e9bdacd133076600a9ea8c\n",
    "## https://gist.github.com/inguelberth/547db5aef8fb82527c79b1d6e2fc368c\n",
    "\n",
    "import random\n",
    "import numpy as np\n",
    "from functools import reduce\n",
    "from pyspark.sql import DataFrame, SparkSession, Row\n",
    "import pyspark.sql.functions as F\n",
    "from pyspark.sql.functions import array, create_map, struct, rand,col,when,concat,substring,lit,udf,lower,sum as ps_sum,count as ps_count,row_number\n",
    "from pyspark.sql.window import *\n",
    "from pyspark.sql.window import Window\n",
    "from pyspark.sql.types import StructField, StructType, StringType, IntegerType, LongType\n",
    "from pyspark.ml.feature import VectorAssembler,BucketedRandomProjectionLSH,VectorSlicer,StringIndexer\n",
    "from pyspark.ml.linalg import Vectors, VectorUDT, SparseVector, DenseVector\n",
    "from pyspark.ml import Pipeline\n",
    "\n",
    "def pre_smote_df_process(df,num_cols,cat_cols,target_col,index_suffix=\"_index\"):\n",
    "    '''\n",
    "    string indexer and vector assembler\n",
    "    inputs:\n",
    "    * df: spark df, original\n",
    "    * num_cols: numerical cols to be assembled\n",
    "    * cat_cols: categorical cols to be stringindexed\n",
    "    * target_col: prediction target\n",
    "    * index_suffix: will be the suffix after string indexing\n",
    "    output:\n",
    "    * vectorized: spark df, after stringindex and vector assemble, ready for smote\n",
    "    '''\n",
    "    if(df.select(target_col).distinct().count() != 2):\n",
    "         raise ValueError(\"Target col must have exactly 2 classes\")\n",
    "        \n",
    "    if target_col in num_cols:\n",
    "        num_cols.remove(target_col)\n",
    "\n",
    "    # only assembled numeric columns into features\n",
    "    assembler = VectorAssembler(inputCols = num_cols, outputCol = 'features_for_model')\n",
    "    # index the string cols, except possibly for the label col\n",
    "    assemble_stages = [StringIndexer(inputCol=column, outputCol=column+index_suffix) for column in list(set(cat_cols)-set([target_col]))]\n",
    "    # add the stage of numerical vector assembler\n",
    "    assemble_stages.append(assembler)\n",
    "    pipeline = Pipeline(stages=assemble_stages)\n",
    "    pos_vectorized = pipeline.fit(df).transform(df)\n",
    "    \n",
    "    # drop original num cols and cat cols\n",
    "    drop_cols = num_cols+cat_cols\n",
    "    \n",
    "    keep_cols = [a for a in pos_vectorized.columns if a not in drop_cols]\n",
    "    \n",
    "    vectorized = pos_vectorized.select(*keep_cols).withColumn('label',pos_vectorized[target_col]).drop(target_col)\n",
    "    \n",
    "    return vectorized\n",
    "\n",
    "def subtract_vector_fn(arr):\n",
    "    a = arr[0]\n",
    "    b = arr[1]\n",
    "    \n",
    "    if isinstance(a, SparseVector):\n",
    "        a = a.toArray()\n",
    "        \n",
    "    if isinstance(b, SparseVector):\n",
    "        b = b.toArray()\n",
    "    \n",
    "    return DenseVector(random.uniform(0, 1)*(a-b))\n",
    "    \n",
    "def add_vector_fn(arr):\n",
    "    a = arr[0]\n",
    "    b = arr[1]\n",
    "    \n",
    "    if isinstance(a, SparseVector):\n",
    "        a = a.toArray()\n",
    "        \n",
    "    if isinstance(b, SparseVector):\n",
    "        b = b.toArray()\n",
    "    \n",
    "    return DenseVector(a+b)\n",
    "\n",
    "def smote(vectorized_sdf,smote_config):\n",
    "    '''\n",
    "    contains logic to perform smote oversampling, given a spark df with 2 classes\n",
    "    inputs:\n",
    "    * vectorized_sdf: cat cols are already stringindexed, num cols are assembled into 'features' vector\n",
    "      df target col should be 'label'\n",
    "    * smote_config: config obj containing smote parameters\n",
    "    output:\n",
    "    * oversampled_df: spark df after smote oversampling\n",
    "    '''\n",
    "    dataInput_min = vectorized_sdf[vectorized_sdf['label'] == smote_config.positive_label]\n",
    "    dataInput_maj = vectorized_sdf[vectorized_sdf['label'] == smote_config.negative_label]\n",
    "    \n",
    "    # LSH, bucketed random projection\n",
    "    brp = BucketedRandomProjectionLSH(inputCol=\"features_for_model\", outputCol=\"hashes\",seed=int(smote_config.seed),\\\n",
    "                                      bucketLength=float(smote_config.bucketLength))\n",
    "    # smote only applies on existing minority instances    \n",
    "    model = brp.fit(dataInput_min)\n",
    "    model.transform(dataInput_min)\n",
    "\n",
    "    # here distance is calculated from brp's param inputCol\n",
    "    self_join_w_distance = model.approxSimilarityJoin(dataInput_min, dataInput_min, float('inf'), distCol=\"EuclideanDistance\")\n",
    "\n",
    "    # remove self-comparison (distance 0)\n",
    "    self_join_w_distance = self_join_w_distance.filter(self_join_w_distance.EuclideanDistance > 0)\n",
    "\n",
    "    over_original_rows = Window.partitionBy(\"datasetA\").orderBy(\"EuclideanDistance\")\n",
    "\n",
    "    self_similarity_df = self_join_w_distance.withColumn(\"r_num\", F.row_number().over(over_original_rows))\n",
    "\n",
    "    self_similarity_df_selected = self_similarity_df.filter(self_similarity_df.r_num <= int(smote_config.k))\n",
    "\n",
    "    over_original_rows_no_order = Window.partitionBy('datasetA')\n",
    "\n",
    "    # list to store batches of synthetic data\n",
    "    res = []\n",
    "    \n",
    "    # two udf for vector add and subtract, subtraction include a random factor [0,1]\n",
    "    subtract_vector_udf = F.udf(subtract_vector_fn, VectorUDT())\n",
    "    add_vector_udf = F.udf(add_vector_fn, VectorUDT())\n",
    "    \n",
    "    # retain original columns\n",
    "    original_cols = dataInput_min.columns\n",
    "    \n",
    "    for i in range(int(smote_config.multiplier)):\n",
    "        print(\"generating batch %s of synthetic instances\"%i)\n",
    "        # logic to randomly select neighbour: pick the largest random number generated row as the neighbour\n",
    "        df_random_sel = self_similarity_df_selected\\\n",
    "                            .withColumn(\"rand\", F.rand())\\\n",
    "                            .withColumn('max_rand', F.max('rand').over(over_original_rows_no_order))\\\n",
    "                            .where(F.col('rand') == F.col('max_rand')).drop(*['max_rand','rand','r_num'])\n",
    "        # create synthetic feature numerical part\n",
    "        df_vec_diff = df_random_sel\\\n",
    "            .select('*', subtract_vector_udf(F.array('datasetA.features_for_model', 'datasetB.features_for_model')).alias('vec_diff'))\n",
    "        df_vec_modified = df_vec_diff\\\n",
    "            .select('*', add_vector_udf(F.array('datasetB.features_for_model', 'vec_diff')).alias('features_for_model'))\n",
    "        \n",
    "        # for categorical cols, either pick original or the neighbour's cat values\n",
    "        for c in original_cols:\n",
    "            # randomly select neighbour or original data\n",
    "            col_sub = random.choice(['datasetA','datasetB'])\n",
    "            val = \"{0}.{1}\".format(col_sub,c)\n",
    "            if c != 'features_for_model':\n",
    "                # do not unpack original numerical features\n",
    "                df_vec_modified = df_vec_modified.withColumn(c,F.col(val))\n",
    "        \n",
    "        # this df_vec_modified is the synthetic minority instances,\n",
    "        df_vec_modified = df_vec_modified.drop(*['datasetA','datasetB','vec_diff','EuclideanDistance'])\n",
    "        \n",
    "        res.append(df_vec_modified)\n",
    "    \n",
    "    dfunion = reduce(DataFrame.union, res)\n",
    "    dfunion = dfunion.union(dataInput_min.select(dfunion.columns))\\\n",
    "        .sort(F.rand(seed=smote_config.seed))\\\n",
    "        .withColumn('row_number', row_number().over(Window.orderBy(lit('A'))))\n",
    "    \n",
    "    dataInput_maj = dataInput_maj.withColumn('row_number', row_number().over(Window.orderBy(lit('A'))))\n",
    "    \n",
    "    # union synthetic instances with original full (both minority and majority) df\n",
    "    oversampled_df = dfunion.union(dataInput_maj.select(dfunion.columns))\n",
    "    \n",
    "    return oversampled_df.sort('row_number').drop(*['row_number'])\n",
    "\n",
    "class SmoteConfig:\n",
    "    def __init__(self, seed, bucketLength, k, multiplier, positive_label, negative_label):\n",
    "        self.seed = seed\n",
    "        self.bucketLength = bucketLength\n",
    "        self.k = k\n",
    "        self.multiplier = multiplier\n",
    "        self.positive_label = positive_label\n",
    "        self.negative_label = negative_label"
   ]
  },
  {
   "cell_type": "code",
   "execution_count": 33,
   "id": "1258ad06",
   "metadata": {},
   "outputs": [],
   "source": [
    "def wrapper_smote(config_file):\n",
    "    feature_list = [\"PC1\",\"PC2\",\"PC3\",\"PC4\",\"PC5\"]\n",
    "    smote_df = pre_smote_df_process(train_data,feature_list,[],'Class',index_suffix=\"_index\")\n",
    "    train_smoted_df = smote(smote_df, config_file)\n",
    "    \n",
    "    rf_model_smote = train_model(train_smoted_df,smote=1)\n",
    "    return rf_model_smote"
   ]
  },
  {
   "cell_type": "code",
   "execution_count": 34,
   "id": "1897e17c",
   "metadata": {
    "scrolled": false
   },
   "outputs": [
    {
     "name": "stdout",
     "output_type": "stream",
     "text": [
      "generating batch 0 of synthetic instances\n",
      "generating batch 1 of synthetic instances\n",
      "generating batch 2 of synthetic instances\n",
      "generating batch 3 of synthetic instances\n",
      "generating batch 4 of synthetic instances\n",
      "generating batch 5 of synthetic instances\n",
      "generating batch 6 of synthetic instances\n",
      "generating batch 7 of synthetic instances\n",
      "generating batch 8 of synthetic instances\n",
      "generating batch 9 of synthetic instances\n",
      "generating batch 10 of synthetic instances\n",
      "generating batch 11 of synthetic instances\n",
      "generating batch 12 of synthetic instances\n",
      "generating batch 13 of synthetic instances\n",
      "generating batch 14 of synthetic instances\n",
      "generating batch 15 of synthetic instances\n",
      "generating batch 16 of synthetic instances\n",
      "generating batch 17 of synthetic instances\n",
      "generating batch 18 of synthetic instances\n",
      "generating batch 19 of synthetic instances\n",
      "generating batch 20 of synthetic instances\n",
      "generating batch 21 of synthetic instances\n",
      "generating batch 22 of synthetic instances\n",
      "generating batch 23 of synthetic instances\n",
      "generating batch 24 of synthetic instances\n",
      "AUROC: 0.910455486542443\n",
      "AUPR: 0.20709203209647298\n"
     ]
    },
    {
     "name": "stderr",
     "output_type": "stream",
     "text": [
      "C:\\Users\\lim\\.conda\\envs\\rip\\lib\\site-packages\\pyspark\\sql\\context.py:157: FutureWarning: Deprecated in 3.0.0. Use SparkSession.builder.getOrCreate() instead.\n",
      "  warnings.warn(\n"
     ]
    },
    {
     "name": "stdout",
     "output_type": "stream",
     "text": [
      "Accuracy: 0.8580786026200873\n",
      "Precision: 0.225\n",
      "Recall: 0.8571428571428571\n",
      "F1-score: 0.3564356435643564\n"
     ]
    },
    {
     "name": "stderr",
     "output_type": "stream",
     "text": [
      "C:\\Users\\lim\\AppData\\Local\\Temp\\ipykernel_61884\\2982799809.py:37: UserWarning: set_ticklabels() should only be used with a fixed number of ticks, i.e. after set_ticks() or using a FixedLocator.\n",
      "  ax.set_xticklabels([''] + labels)\n",
      "C:\\Users\\lim\\AppData\\Local\\Temp\\ipykernel_61884\\2982799809.py:38: UserWarning: set_ticklabels() should only be used with a fixed number of ticks, i.e. after set_ticks() or using a FixedLocator.\n",
      "  ax.set_yticklabels([''] + labels)\n"
     ]
    },
    {
     "data": {
      "image/png": "[encoded data removed]",
      "text/plain": [
       "<Figure size 640x480 with 2 Axes>"
      ]
     },
     "metadata": {},
     "output_type": "display_data"
    },
    {
     "name": "stdout",
     "output_type": "stream",
     "text": [
      "TN: 750\n",
      "TP: 36\n",
      "FP: 124\n",
      "FN: 6\n"
     ]
    }
   ],
   "source": [
    "# Config k = 10, Multiplier = 25\n",
    "config4a = SmoteConfig(76, 200, 10, 25, 1, 0)\n",
    "rf_model10a = wrapper_smote(config4a)\n",
    "evaluate_test_data(test_data, rf_model10a)"
   ]
  },
  {
   "cell_type": "code",
   "execution_count": 35,
   "id": "9f0081fb",
   "metadata": {
    "scrolled": false
   },
   "outputs": [
    {
     "name": "stdout",
     "output_type": "stream",
     "text": [
      "generating batch 0 of synthetic instances\n",
      "generating batch 1 of synthetic instances\n",
      "generating batch 2 of synthetic instances\n",
      "generating batch 3 of synthetic instances\n",
      "generating batch 4 of synthetic instances\n",
      "generating batch 5 of synthetic instances\n",
      "generating batch 6 of synthetic instances\n",
      "generating batch 7 of synthetic instances\n",
      "generating batch 8 of synthetic instances\n",
      "generating batch 9 of synthetic instances\n",
      "generating batch 10 of synthetic instances\n",
      "generating batch 11 of synthetic instances\n",
      "generating batch 12 of synthetic instances\n",
      "generating batch 13 of synthetic instances\n",
      "generating batch 14 of synthetic instances\n",
      "generating batch 15 of synthetic instances\n",
      "generating batch 16 of synthetic instances\n",
      "generating batch 17 of synthetic instances\n",
      "generating batch 18 of synthetic instances\n",
      "generating batch 19 of synthetic instances\n",
      "generating batch 20 of synthetic instances\n",
      "generating batch 21 of synthetic instances\n",
      "generating batch 22 of synthetic instances\n",
      "generating batch 23 of synthetic instances\n",
      "generating batch 24 of synthetic instances\n",
      "AUROC: 0.906519014928626\n",
      "AUPR: 0.200957731389636\n"
     ]
    },
    {
     "name": "stderr",
     "output_type": "stream",
     "text": [
      "C:\\Users\\lim\\.conda\\envs\\rip\\lib\\site-packages\\pyspark\\sql\\context.py:157: FutureWarning: Deprecated in 3.0.0. Use SparkSession.builder.getOrCreate() instead.\n",
      "  warnings.warn(\n"
     ]
    },
    {
     "name": "stdout",
     "output_type": "stream",
     "text": [
      "Accuracy: 0.8569868995633187\n",
      "Precision: 0.22012578616352202\n",
      "Recall: 0.8333333333333334\n",
      "F1-score: 0.34825870646766166\n"
     ]
    },
    {
     "name": "stderr",
     "output_type": "stream",
     "text": [
      "C:\\Users\\lim\\AppData\\Local\\Temp\\ipykernel_61884\\2982799809.py:37: UserWarning: set_ticklabels() should only be used with a fixed number of ticks, i.e. after set_ticks() or using a FixedLocator.\n",
      "  ax.set_xticklabels([''] + labels)\n",
      "C:\\Users\\lim\\AppData\\Local\\Temp\\ipykernel_61884\\2982799809.py:38: UserWarning: set_ticklabels() should only be used with a fixed number of ticks, i.e. after set_ticks() or using a FixedLocator.\n",
      "  ax.set_yticklabels([''] + labels)\n"
     ]
    },
    {
     "data": {
      "image/png": "[encoded data removed]",
      "text/plain": [
       "<Figure size 640x480 with 2 Axes>"
      ]
     },
     "metadata": {},
     "output_type": "display_data"
    },
    {
     "name": "stdout",
     "output_type": "stream",
     "text": [
      "TN: 750\n",
      "TP: 35\n",
      "FP: 124\n",
      "FN: 7\n"
     ]
    }
   ],
   "source": [
    "# Config k = 5, Multiplier = 25\n",
    "config4a = SmoteConfig(76, 20, 5, 25, 1, 0)\n",
    "rf_model10a = wrapper_smote(config4a)\n",
    "evaluate_test_data(test_data, rf_model10a)"
   ]
  },
  {
   "cell_type": "code",
   "execution_count": 36,
   "id": "a681f5ba",
   "metadata": {},
   "outputs": [
    {
     "name": "stdout",
     "output_type": "stream",
     "text": [
      "generating batch 0 of synthetic instances\n",
      "generating batch 1 of synthetic instances\n",
      "generating batch 2 of synthetic instances\n",
      "generating batch 3 of synthetic instances\n",
      "generating batch 4 of synthetic instances\n",
      "generating batch 5 of synthetic instances\n",
      "generating batch 6 of synthetic instances\n",
      "generating batch 7 of synthetic instances\n",
      "generating batch 8 of synthetic instances\n",
      "generating batch 9 of synthetic instances\n",
      "generating batch 10 of synthetic instances\n",
      "generating batch 11 of synthetic instances\n",
      "generating batch 12 of synthetic instances\n",
      "generating batch 13 of synthetic instances\n",
      "generating batch 14 of synthetic instances\n",
      "generating batch 15 of synthetic instances\n",
      "generating batch 16 of synthetic instances\n",
      "generating batch 17 of synthetic instances\n",
      "generating batch 18 of synthetic instances\n",
      "generating batch 19 of synthetic instances\n",
      "generating batch 20 of synthetic instances\n",
      "generating batch 21 of synthetic instances\n",
      "generating batch 22 of synthetic instances\n",
      "generating batch 23 of synthetic instances\n",
      "generating batch 24 of synthetic instances\n",
      "AUROC: 0.9139833278849298\n",
      "AUPR: 0.21230250768137765\n"
     ]
    },
    {
     "name": "stderr",
     "output_type": "stream",
     "text": [
      "C:\\Users\\lim\\.conda\\envs\\rip\\lib\\site-packages\\pyspark\\sql\\context.py:157: FutureWarning: Deprecated in 3.0.0. Use SparkSession.builder.getOrCreate() instead.\n",
      "  warnings.warn(\n"
     ]
    },
    {
     "name": "stdout",
     "output_type": "stream",
     "text": [
      "Accuracy: 0.8755458515283843\n",
      "Precision: 0.23134328358208955\n",
      "Recall: 0.7380952380952381\n",
      "F1-score: 0.3522727272727273\n"
     ]
    },
    {
     "name": "stderr",
     "output_type": "stream",
     "text": [
      "C:\\Users\\lim\\AppData\\Local\\Temp\\ipykernel_61884\\2982799809.py:37: UserWarning: set_ticklabels() should only be used with a fixed number of ticks, i.e. after set_ticks() or using a FixedLocator.\n",
      "  ax.set_xticklabels([''] + labels)\n",
      "C:\\Users\\lim\\AppData\\Local\\Temp\\ipykernel_61884\\2982799809.py:38: UserWarning: set_ticklabels() should only be used with a fixed number of ticks, i.e. after set_ticks() or using a FixedLocator.\n",
      "  ax.set_yticklabels([''] + labels)\n"
     ]
    },
    {
     "data": {
      "image/png": "[encoded data removed]",
      "text/plain": [
       "<Figure size 640x480 with 2 Axes>"
      ]
     },
     "metadata": {},
     "output_type": "display_data"
    },
    {
     "name": "stdout",
     "output_type": "stream",
     "text": [
      "TN: 771\n",
      "TP: 31\n",
      "FP: 103\n",
      "FN: 11\n"
     ]
    }
   ],
   "source": [
    "# Config k = 5, Multiplier = 25\n",
    "config4a = SmoteConfig(76, 1, 5, 25, 1, 0)\n",
    "rf_model10a = wrapper_smote(config4a)\n",
    "evaluate_test_data(test_data, rf_model10a)"
   ]
  },
  {
   "cell_type": "code",
   "execution_count": null,
   "id": "dbd41faf",
   "metadata": {},
   "outputs": [],
   "source": []
  }
 ],
 "metadata": {
  "kernelspec": {
   "display_name": "Python 3 (ipykernel)",
   "language": "python",
   "name": "python3"
  },
  "language_info": {
   "codemirror_mode": {
    "name": "ipython",
    "version": 3
   },
   "file_extension": ".py",
   "mimetype": "text/x-python",
   "name": "python",
   "nbconvert_exporter": "python",
   "pygments_lexer": "ipython3",
   "version": "3.9.18"
  }
 },
 "nbformat": 4,
 "nbformat_minor": 5
}
