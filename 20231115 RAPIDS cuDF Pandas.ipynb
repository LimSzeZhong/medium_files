{
 "cells": [
  {
   "cell_type": "markdown",
   "id": "a557a430-e18e-445d-a817-ec0717e0520e",
   "metadata": {},
   "source": [
    "#### Credits to Avi Chawla.\n",
    "#### I am modifying his notebook found on his Google Colab to try running it on my personal computer to time the difference.\n",
    "#### https://www.blog.dailydoseofds.com/p/nvidias-latest-update-can-make-your\n",
    "#### https://colab.research.google.com/drive/1l6mfdEFehLnxRMzGXenI9N3CBqWh65ve?usp=sharing#scrollTo=ArOr3GrJTDMq"
   ]
  },
  {
   "cell_type": "markdown",
   "id": "3e3ffac4-f452-42b9-8ac9-9667645b084b",
   "metadata": {},
   "source": [
    "## Download the Data to Process"
   ]
  },
  {
   "cell_type": "code",
   "execution_count": 1,
   "id": "757bb1eb-1026-4a44-9fb0-5671fa6c3f8f",
   "metadata": {},
   "outputs": [
    {
     "name": "stdout",
     "output_type": "stream",
     "text": [
      "--2023-11-15 11:41:03--  https://data.rapids.ai/datasets/nyc_parking/nyc_parking_violations_2022.parquet\n",
      "Resolving data.rapids.ai (data.rapids.ai)... 13.224.250.77, 13.224.250.61, 13.224.250.33, ...\n",
      "Connecting to data.rapids.ai (data.rapids.ai)|13.224.250.77|:443... connected.\n",
      "HTTP request sent, awaiting response... 200 OK\n",
      "Length: 477161608 (455M) [binary/octet-stream]\n",
      "Saving to: ‘nyc_parking_violations_2022.parquet’\n",
      "\n",
      "nyc_parking_violati 100%[===================>] 455.06M  58.0MB/s    in 7.7s    \n",
      "\n",
      "2023-11-15 11:41:12 (58.8 MB/s) - ‘nyc_parking_violations_2022.parquet’ saved [477161608/477161608]\n",
      "\n"
     ]
    }
   ],
   "source": [
    "# This command will download the file to the home directory\n",
    "!wget https://data.rapids.ai/datasets/nyc_parking/nyc_parking_violations_2022.parquet"
   ]
  },
  {
   "cell_type": "markdown",
   "id": "ad445048-925c-4932-85a1-7522995a5439",
   "metadata": {},
   "source": [
    "## WITHOUT RAPIDS.ai CUDF"
   ]
  },
  {
   "cell_type": "code",
   "execution_count": 2,
   "id": "66c4cf92-04d0-4963-8067-ed4f1d2cfcfe",
   "metadata": {},
   "outputs": [
    {
     "data": {
      "text/plain": [
       "<module 'pandas' from '/home/lsz/anaconda3/envs/rapids-23.10/lib/python3.10/site-packages/pandas/__init__.py'>"
      ]
     },
     "execution_count": 2,
     "metadata": {},
     "output_type": "execute_result"
    }
   ],
   "source": [
    "# Note the location of pandas\n",
    "import pandas as pd\n",
    "pd"
   ]
  },
  {
   "cell_type": "code",
   "execution_count": 3,
   "id": "eec0a486-a19f-460c-9ff7-587c00b2ae27",
   "metadata": {},
   "outputs": [
    {
     "name": "stdout",
     "output_type": "stream",
     "text": [
      "CPU times: user 4.99 s, sys: 16.8 s, total: 21.8 s\n",
      "Wall time: 16.7 s\n"
     ]
    }
   ],
   "source": [
    "%%time\n",
    "df = pd.read_parquet(\n",
    "    \"nyc_parking_violations_2022.parquet\",\n",
    "    columns=[\"Registration State\", \"Violation Description\",\n",
    "             \"Vehicle Body Type\", \"Issue Date\", \"Summons Number\"]\n",
    ")"
   ]
  },
  {
   "cell_type": "code",
   "execution_count": 4,
   "id": "1a69841d-e8b4-4a8d-a259-4660bfb36397",
   "metadata": {},
   "outputs": [
    {
     "name": "stdout",
     "output_type": "stream",
     "text": [
      "CPU times: user 2.38 s, sys: 1.25 s, total: 3.63 s\n",
      "Wall time: 3.58 s\n"
     ]
    },
    {
     "data": {
      "text/html": [
       "<div>\n",
       "<style scoped>\n",
       "    .dataframe tbody tr th:only-of-type {\n",
       "        vertical-align: middle;\n",
       "    }\n",
       "\n",
       "    .dataframe tbody tr th {\n",
       "        vertical-align: top;\n",
       "    }\n",
       "\n",
       "    .dataframe thead th {\n",
       "        text-align: right;\n",
       "    }\n",
       "</style>\n",
       "<table border=\"1\" class=\"dataframe\">\n",
       "  <thead>\n",
       "    <tr style=\"text-align: right;\">\n",
       "      <th></th>\n",
       "      <th>Registration State</th>\n",
       "      <th>Violation Description</th>\n",
       "      <th>0</th>\n",
       "    </tr>\n",
       "  </thead>\n",
       "  <tbody>\n",
       "    <tr>\n",
       "      <th>0</th>\n",
       "      <td>99</td>\n",
       "      <td>74-Missing Display Plate</td>\n",
       "      <td>835</td>\n",
       "    </tr>\n",
       "    <tr>\n",
       "      <th>1</th>\n",
       "      <td>AB</td>\n",
       "      <td>14-No Standing</td>\n",
       "      <td>22</td>\n",
       "    </tr>\n",
       "    <tr>\n",
       "      <th>2</th>\n",
       "      <td>AK</td>\n",
       "      <td>PHTO SCHOOL ZN SPEED VIOLATION</td>\n",
       "      <td>125</td>\n",
       "    </tr>\n",
       "    <tr>\n",
       "      <th>3</th>\n",
       "      <td>AL</td>\n",
       "      <td>PHTO SCHOOL ZN SPEED VIOLATION</td>\n",
       "      <td>3668</td>\n",
       "    </tr>\n",
       "    <tr>\n",
       "      <th>4</th>\n",
       "      <td>AR</td>\n",
       "      <td>PHTO SCHOOL ZN SPEED VIOLATION</td>\n",
       "      <td>537</td>\n",
       "    </tr>\n",
       "    <tr>\n",
       "      <th>...</th>\n",
       "      <td>...</td>\n",
       "      <td>...</td>\n",
       "      <td>...</td>\n",
       "    </tr>\n",
       "    <tr>\n",
       "      <th>60</th>\n",
       "      <td>VT</td>\n",
       "      <td>PHTO SCHOOL ZN SPEED VIOLATION</td>\n",
       "      <td>3024</td>\n",
       "    </tr>\n",
       "    <tr>\n",
       "      <th>61</th>\n",
       "      <td>WA</td>\n",
       "      <td>21-No Parking (street clean)</td>\n",
       "      <td>3732</td>\n",
       "    </tr>\n",
       "    <tr>\n",
       "      <th>62</th>\n",
       "      <td>WI</td>\n",
       "      <td>14-No Standing</td>\n",
       "      <td>1639</td>\n",
       "    </tr>\n",
       "    <tr>\n",
       "      <th>63</th>\n",
       "      <td>WV</td>\n",
       "      <td>PHTO SCHOOL ZN SPEED VIOLATION</td>\n",
       "      <td>1185</td>\n",
       "    </tr>\n",
       "    <tr>\n",
       "      <th>64</th>\n",
       "      <td>WY</td>\n",
       "      <td>21-No Parking (street clean)</td>\n",
       "      <td>138</td>\n",
       "    </tr>\n",
       "  </tbody>\n",
       "</table>\n",
       "<p>65 rows × 3 columns</p>\n",
       "</div>"
      ],
      "text/plain": [
       "   Registration State           Violation Description     0\n",
       "0                  99        74-Missing Display Plate   835\n",
       "1                  AB                  14-No Standing    22\n",
       "2                  AK  PHTO SCHOOL ZN SPEED VIOLATION   125\n",
       "3                  AL  PHTO SCHOOL ZN SPEED VIOLATION  3668\n",
       "4                  AR  PHTO SCHOOL ZN SPEED VIOLATION   537\n",
       "..                ...                             ...   ...\n",
       "60                 VT  PHTO SCHOOL ZN SPEED VIOLATION  3024\n",
       "61                 WA    21-No Parking (street clean)  3732\n",
       "62                 WI                  14-No Standing  1639\n",
       "63                 WV  PHTO SCHOOL ZN SPEED VIOLATION  1185\n",
       "64                 WY    21-No Parking (street clean)   138\n",
       "\n",
       "[65 rows x 3 columns]"
      ]
     },
     "execution_count": 4,
     "metadata": {},
     "output_type": "execute_result"
    }
   ],
   "source": [
    "%%time\n",
    "(df[[\"Registration State\", \"Violation Description\"]]\n",
    " .value_counts()\n",
    " .groupby(\"Registration State\")\n",
    " .head(1)\n",
    " .sort_index()\n",
    " .reset_index()\n",
    ")"
   ]
  },
  {
   "cell_type": "code",
   "execution_count": 5,
   "id": "b6a973ef-ddcb-4d81-8316-6a831a35b943",
   "metadata": {},
   "outputs": [
    {
     "name": "stdout",
     "output_type": "stream",
     "text": [
      "CPU times: user 1.48 s, sys: 30 ms, total: 1.51 s\n",
      "Wall time: 1.5 s\n"
     ]
    },
    {
     "data": {
      "text/html": [
       "<div>\n",
       "<style scoped>\n",
       "    .dataframe tbody tr th:only-of-type {\n",
       "        vertical-align: middle;\n",
       "    }\n",
       "\n",
       "    .dataframe tbody tr th {\n",
       "        vertical-align: top;\n",
       "    }\n",
       "\n",
       "    .dataframe thead th {\n",
       "        text-align: right;\n",
       "    }\n",
       "</style>\n",
       "<table border=\"1\" class=\"dataframe\">\n",
       "  <thead>\n",
       "    <tr style=\"text-align: right;\">\n",
       "      <th></th>\n",
       "      <th>Count</th>\n",
       "    </tr>\n",
       "    <tr>\n",
       "      <th>Vehicle Body Type</th>\n",
       "      <th></th>\n",
       "    </tr>\n",
       "  </thead>\n",
       "  <tbody>\n",
       "    <tr>\n",
       "      <th>SUBN</th>\n",
       "      <td>6449007</td>\n",
       "    </tr>\n",
       "    <tr>\n",
       "      <th>4DSD</th>\n",
       "      <td>4402991</td>\n",
       "    </tr>\n",
       "    <tr>\n",
       "      <th>VAN</th>\n",
       "      <td>1317899</td>\n",
       "    </tr>\n",
       "    <tr>\n",
       "      <th>DELV</th>\n",
       "      <td>436430</td>\n",
       "    </tr>\n",
       "    <tr>\n",
       "      <th>PICK</th>\n",
       "      <td>429798</td>\n",
       "    </tr>\n",
       "    <tr>\n",
       "      <th>...</th>\n",
       "      <td>...</td>\n",
       "    </tr>\n",
       "    <tr>\n",
       "      <th>CARY</th>\n",
       "      <td>1</td>\n",
       "    </tr>\n",
       "    <tr>\n",
       "      <th>ISUZ</th>\n",
       "      <td>1</td>\n",
       "    </tr>\n",
       "    <tr>\n",
       "      <th>IXMR</th>\n",
       "      <td>1</td>\n",
       "    </tr>\n",
       "    <tr>\n",
       "      <th>BILB</th>\n",
       "      <td>1</td>\n",
       "    </tr>\n",
       "    <tr>\n",
       "      <th>ONEL</th>\n",
       "      <td>1</td>\n",
       "    </tr>\n",
       "  </tbody>\n",
       "</table>\n",
       "<p>966 rows × 1 columns</p>\n",
       "</div>"
      ],
      "text/plain": [
       "                     Count\n",
       "Vehicle Body Type         \n",
       "SUBN               6449007\n",
       "4DSD               4402991\n",
       "VAN                1317899\n",
       "DELV                436430\n",
       "PICK                429798\n",
       "...                    ...\n",
       "CARY                     1\n",
       "ISUZ                     1\n",
       "IXMR                     1\n",
       "BILB                     1\n",
       "ONEL                     1\n",
       "\n",
       "[966 rows x 1 columns]"
      ]
     },
     "execution_count": 5,
     "metadata": {},
     "output_type": "execute_result"
    }
   ],
   "source": [
    "%%time\n",
    "(df\n",
    " .groupby([\"Vehicle Body Type\"])\n",
    " .agg({\"Summons Number\": \"count\"})\n",
    " .rename(columns={\"Summons Number\": \"Count\"})\n",
    " .sort_values([\"Count\"], ascending=False)\n",
    ")"
   ]
  },
  {
   "cell_type": "code",
   "execution_count": 6,
   "id": "c01a9cbd-97fe-4a89-8b2c-250ae6def5d7",
   "metadata": {},
   "outputs": [
    {
     "name": "stdout",
     "output_type": "stream",
     "text": [
      "CPU times: user 2.49 s, sys: 219 ms, total: 2.71 s\n",
      "Wall time: 2.71 s\n"
     ]
    },
    {
     "data": {
      "text/plain": [
       "issue_weekday\n",
       "Sunday        462992\n",
       "Saturday     1108385\n",
       "Monday       2488563\n",
       "Wednesday    2760088\n",
       "Tuesday      2809949\n",
       "Friday       2891679\n",
       "Thursday     2913951\n",
       "Name: Summons Number, dtype: int64"
      ]
     },
     "execution_count": 6,
     "metadata": {},
     "output_type": "execute_result"
    }
   ],
   "source": [
    "%%time\n",
    "weekday_names = {\n",
    "    0: \"Monday\",\n",
    "    1: \"Tuesday\",\n",
    "    2: \"Wednesday\",\n",
    "    3: \"Thursday\",\n",
    "    4: \"Friday\",\n",
    "    5: \"Saturday\",\n",
    "    6: \"Sunday\",\n",
    "}\n",
    "\n",
    "df[\"Issue Date\"] = df[\"Issue Date\"].astype(\"datetime64[ms]\")\n",
    "df[\"issue_weekday\"] = df[\"Issue Date\"].dt.weekday.map(weekday_names)\n",
    "\n",
    "df.groupby([\"issue_weekday\"])[\"Summons Number\"].count().sort_values()"
   ]
  },
  {
   "cell_type": "markdown",
   "id": "7aaf073e-0682-4d6b-8c34-f914bb2c059e",
   "metadata": {},
   "source": [
    "## WITH RAPIDS.ai CUDF"
   ]
  },
  {
   "cell_type": "code",
   "execution_count": 7,
   "id": "b921b26f-4d1e-4375-a466-2c461a7fd9e3",
   "metadata": {},
   "outputs": [
    {
     "data": {
      "text/plain": [
       "<module 'pandas' from '/home/lsz/anaconda3/envs/rapids-23.10/lib/python3.10/site-packages/pandas/__init__.py'>"
      ]
     },
     "execution_count": 7,
     "metadata": {},
     "output_type": "execute_result"
    }
   ],
   "source": [
    "# Even after we load_ext, pd is still linked to before and will not have any changes.\n",
    "%load_ext cudf.pandas\n",
    "pd"
   ]
  },
  {
   "cell_type": "code",
   "execution_count": 8,
   "id": "3f139af1-93d6-4855-a2c7-4e772e2cf697",
   "metadata": {},
   "outputs": [
    {
     "data": {
      "text/plain": [
       "<module 'pandas' (ModuleAccelerator(fast=cudf, slow=pandas))>"
      ]
     },
     "execution_count": 8,
     "metadata": {},
     "output_type": "execute_result"
    }
   ],
   "source": [
    "# We need to re-import pandas as pd AFTER the %load_ext cudf.pandas\n",
    "# Can see that the location has changed.\n",
    "import pandas as pd\n",
    "pd"
   ]
  },
  {
   "cell_type": "code",
   "execution_count": 9,
   "id": "768bd0e6-67c8-4f04-afed-5a381fd8b990",
   "metadata": {},
   "outputs": [
    {
     "name": "stdout",
     "output_type": "stream",
     "text": [
      "CPU times: user 1.06 s, sys: 602 ms, total: 1.66 s\n",
      "Wall time: 2.1 s\n"
     ]
    }
   ],
   "source": [
    "%%time\n",
    "df = pd.read_parquet(\n",
    "    \"nyc_parking_violations_2022.parquet\",\n",
    "    columns=[\"Registration State\", \"Violation Description\",\n",
    "             \"Vehicle Body Type\", \"Issue Date\", \"Summons Number\"]\n",
    ")"
   ]
  },
  {
   "cell_type": "code",
   "execution_count": 10,
   "id": "f0f98fa8-4855-4362-aad4-409ba5e80315",
   "metadata": {},
   "outputs": [
    {
     "name": "stdout",
     "output_type": "stream",
     "text": [
      "CPU times: user 71 ms, sys: 0 ns, total: 71 ms\n",
      "Wall time: 84.9 ms\n"
     ]
    },
    {
     "data": {
      "text/html": [
       "<div>\n",
       "<style scoped>\n",
       "    .dataframe tbody tr th:only-of-type {\n",
       "        vertical-align: middle;\n",
       "    }\n",
       "\n",
       "    .dataframe tbody tr th {\n",
       "        vertical-align: top;\n",
       "    }\n",
       "\n",
       "    .dataframe thead th {\n",
       "        text-align: right;\n",
       "    }\n",
       "</style>\n",
       "<table border=\"1\" class=\"dataframe\">\n",
       "  <thead>\n",
       "    <tr style=\"text-align: right;\">\n",
       "      <th></th>\n",
       "      <th>Registration State</th>\n",
       "      <th>Violation Description</th>\n",
       "      <th>0</th>\n",
       "    </tr>\n",
       "  </thead>\n",
       "  <tbody>\n",
       "    <tr>\n",
       "      <th>0</th>\n",
       "      <td>99</td>\n",
       "      <td>74-Missing Display Plate</td>\n",
       "      <td>835</td>\n",
       "    </tr>\n",
       "    <tr>\n",
       "      <th>1</th>\n",
       "      <td>AB</td>\n",
       "      <td>14-No Standing</td>\n",
       "      <td>22</td>\n",
       "    </tr>\n",
       "    <tr>\n",
       "      <th>2</th>\n",
       "      <td>AK</td>\n",
       "      <td>PHTO SCHOOL ZN SPEED VIOLATION</td>\n",
       "      <td>125</td>\n",
       "    </tr>\n",
       "    <tr>\n",
       "      <th>3</th>\n",
       "      <td>AL</td>\n",
       "      <td>PHTO SCHOOL ZN SPEED VIOLATION</td>\n",
       "      <td>3668</td>\n",
       "    </tr>\n",
       "    <tr>\n",
       "      <th>4</th>\n",
       "      <td>AR</td>\n",
       "      <td>PHTO SCHOOL ZN SPEED VIOLATION</td>\n",
       "      <td>537</td>\n",
       "    </tr>\n",
       "    <tr>\n",
       "      <th>...</th>\n",
       "      <td>...</td>\n",
       "      <td>...</td>\n",
       "      <td>...</td>\n",
       "    </tr>\n",
       "    <tr>\n",
       "      <th>60</th>\n",
       "      <td>VT</td>\n",
       "      <td>PHTO SCHOOL ZN SPEED VIOLATION</td>\n",
       "      <td>3024</td>\n",
       "    </tr>\n",
       "    <tr>\n",
       "      <th>61</th>\n",
       "      <td>WA</td>\n",
       "      <td>21-No Parking (street clean)</td>\n",
       "      <td>3732</td>\n",
       "    </tr>\n",
       "    <tr>\n",
       "      <th>62</th>\n",
       "      <td>WI</td>\n",
       "      <td>14-No Standing</td>\n",
       "      <td>1639</td>\n",
       "    </tr>\n",
       "    <tr>\n",
       "      <th>63</th>\n",
       "      <td>WV</td>\n",
       "      <td>PHTO SCHOOL ZN SPEED VIOLATION</td>\n",
       "      <td>1185</td>\n",
       "    </tr>\n",
       "    <tr>\n",
       "      <th>64</th>\n",
       "      <td>WY</td>\n",
       "      <td>21-No Parking (street clean)</td>\n",
       "      <td>138</td>\n",
       "    </tr>\n",
       "  </tbody>\n",
       "</table>\n",
       "<p>65 rows × 3 columns</p>\n",
       "</div>"
      ],
      "text/plain": [
       "   Registration State           Violation Description     0\n",
       "0                  99        74-Missing Display Plate   835\n",
       "1                  AB                  14-No Standing    22\n",
       "2                  AK  PHTO SCHOOL ZN SPEED VIOLATION   125\n",
       "3                  AL  PHTO SCHOOL ZN SPEED VIOLATION  3668\n",
       "4                  AR  PHTO SCHOOL ZN SPEED VIOLATION   537\n",
       "..                ...                             ...   ...\n",
       "60                 VT  PHTO SCHOOL ZN SPEED VIOLATION  3024\n",
       "61                 WA    21-No Parking (street clean)  3732\n",
       "62                 WI                  14-No Standing  1639\n",
       "63                 WV  PHTO SCHOOL ZN SPEED VIOLATION  1185\n",
       "64                 WY    21-No Parking (street clean)   138\n",
       "\n",
       "[65 rows x 3 columns]"
      ]
     },
     "execution_count": 10,
     "metadata": {},
     "output_type": "execute_result"
    }
   ],
   "source": [
    "%%time\n",
    "(df[[\"Registration State\", \"Violation Description\"]]\n",
    " .value_counts()\n",
    " .groupby(\"Registration State\")\n",
    " .head(1)\n",
    " .sort_index()\n",
    " .reset_index()\n",
    ")"
   ]
  },
  {
   "cell_type": "code",
   "execution_count": 11,
   "id": "7fbeaa11-c55b-42ce-a447-609846d2e9a4",
   "metadata": {},
   "outputs": [
    {
     "name": "stdout",
     "output_type": "stream",
     "text": [
      "CPU times: user 25.1 ms, sys: 7.01 ms, total: 32.1 ms\n",
      "Wall time: 37.7 ms\n"
     ]
    },
    {
     "data": {
      "text/html": [
       "<div>\n",
       "<style scoped>\n",
       "    .dataframe tbody tr th:only-of-type {\n",
       "        vertical-align: middle;\n",
       "    }\n",
       "\n",
       "    .dataframe tbody tr th {\n",
       "        vertical-align: top;\n",
       "    }\n",
       "\n",
       "    .dataframe thead th {\n",
       "        text-align: right;\n",
       "    }\n",
       "</style>\n",
       "<table border=\"1\" class=\"dataframe\">\n",
       "  <thead>\n",
       "    <tr style=\"text-align: right;\">\n",
       "      <th></th>\n",
       "      <th>Count</th>\n",
       "    </tr>\n",
       "    <tr>\n",
       "      <th>Vehicle Body Type</th>\n",
       "      <th></th>\n",
       "    </tr>\n",
       "  </thead>\n",
       "  <tbody>\n",
       "    <tr>\n",
       "      <th>SUBN</th>\n",
       "      <td>6449007</td>\n",
       "    </tr>\n",
       "    <tr>\n",
       "      <th>4DSD</th>\n",
       "      <td>4402991</td>\n",
       "    </tr>\n",
       "    <tr>\n",
       "      <th>VAN</th>\n",
       "      <td>1317899</td>\n",
       "    </tr>\n",
       "    <tr>\n",
       "      <th>DELV</th>\n",
       "      <td>436430</td>\n",
       "    </tr>\n",
       "    <tr>\n",
       "      <th>PICK</th>\n",
       "      <td>429798</td>\n",
       "    </tr>\n",
       "    <tr>\n",
       "      <th>...</th>\n",
       "      <td>...</td>\n",
       "    </tr>\n",
       "    <tr>\n",
       "      <th>YANT</th>\n",
       "      <td>1</td>\n",
       "    </tr>\n",
       "    <tr>\n",
       "      <th>YBSD</th>\n",
       "      <td>1</td>\n",
       "    </tr>\n",
       "    <tr>\n",
       "      <th>YEL</th>\n",
       "      <td>1</td>\n",
       "    </tr>\n",
       "    <tr>\n",
       "      <th>YL</th>\n",
       "      <td>1</td>\n",
       "    </tr>\n",
       "    <tr>\n",
       "      <th>Z1UT</th>\n",
       "      <td>1</td>\n",
       "    </tr>\n",
       "  </tbody>\n",
       "</table>\n",
       "<p>966 rows × 1 columns</p>\n",
       "</div>"
      ],
      "text/plain": [
       "                     Count\n",
       "Vehicle Body Type         \n",
       "SUBN               6449007\n",
       "4DSD               4402991\n",
       "VAN                1317899\n",
       "DELV                436430\n",
       "PICK                429798\n",
       "...                    ...\n",
       "YANT                     1\n",
       "YBSD                     1\n",
       "YEL                      1\n",
       "YL                       1\n",
       "Z1UT                     1\n",
       "\n",
       "[966 rows x 1 columns]"
      ]
     },
     "execution_count": 11,
     "metadata": {},
     "output_type": "execute_result"
    }
   ],
   "source": [
    "%%time\n",
    "(df\n",
    " .groupby([\"Vehicle Body Type\"])\n",
    " .agg({\"Summons Number\": \"count\"})\n",
    " .rename(columns={\"Summons Number\": \"Count\"})\n",
    " .sort_values([\"Count\"], ascending=False)\n",
    ")"
   ]
  },
  {
   "cell_type": "code",
   "execution_count": 12,
   "id": "de4fe212-2d72-4a71-a177-7296b433505e",
   "metadata": {},
   "outputs": [
    {
     "name": "stdout",
     "output_type": "stream",
     "text": [
      "CPU times: user 165 ms, sys: 1.47 ms, total: 166 ms\n",
      "Wall time: 198 ms\n"
     ]
    },
    {
     "data": {
      "text/plain": [
       "issue_weekday\n",
       "Sunday        462992\n",
       "Saturday     1108385\n",
       "Monday       2488563\n",
       "Wednesday    2760088\n",
       "Tuesday      2809949\n",
       "Friday       2891679\n",
       "Thursday     2913951\n",
       "Name: Summons Number, dtype: int64"
      ]
     },
     "execution_count": 12,
     "metadata": {},
     "output_type": "execute_result"
    }
   ],
   "source": [
    "%%time\n",
    "weekday_names = {\n",
    "    0: \"Monday\",\n",
    "    1: \"Tuesday\",\n",
    "    2: \"Wednesday\",\n",
    "    3: \"Thursday\",\n",
    "    4: \"Friday\",\n",
    "    5: \"Saturday\",\n",
    "    6: \"Sunday\",\n",
    "}\n",
    "\n",
    "df[\"Issue Date\"] = df[\"Issue Date\"].astype(\"datetime64[ms]\")\n",
    "df[\"issue_weekday\"] = df[\"Issue Date\"].dt.weekday.map(weekday_names)\n",
    "\n",
    "df.groupby([\"issue_weekday\"])[\"Summons Number\"].count().sort_values()"
   ]
  },
  {
   "cell_type": "code",
   "execution_count": null,
   "id": "73f67b45-8476-4073-b5ee-4e47c6c4e118",
   "metadata": {},
   "outputs": [],
   "source": []
  }
 ],
 "metadata": {
  "kernelspec": {
   "display_name": "Python 3 (ipykernel)",
   "language": "python",
   "name": "python3"
  },
  "language_info": {
   "codemirror_mode": {
    "name": "ipython",
    "version": 3
   },
   "file_extension": ".py",
   "mimetype": "text/x-python",
   "name": "python",
   "nbconvert_exporter": "python",
   "pygments_lexer": "ipython3",
   "version": "3.10.13"
  }
 },
 "nbformat": 4,
 "nbformat_minor": 5
}
