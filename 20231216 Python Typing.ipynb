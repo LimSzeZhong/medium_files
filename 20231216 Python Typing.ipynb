{
 "cells": [
  {
   "cell_type": "markdown",
   "id": "e13003c8",
   "metadata": {},
   "source": [
    "## Sample of with and without Type Annotations"
   ]
  },
  {
   "cell_type": "code",
   "execution_count": 1,
   "id": "d5938e2b",
   "metadata": {},
   "outputs": [
    {
     "name": "stdout",
     "output_type": "stream",
     "text": [
      "4\n"
     ]
    }
   ],
   "source": [
    "# Annotation to a variable with a value.\n",
    "length: int = 4\n",
    "print(length)"
   ]
  },
  {
   "cell_type": "code",
   "execution_count": 2,
   "id": "187bd21f",
   "metadata": {},
   "outputs": [],
   "source": [
    "# Annotation to a variable without a value.\n",
    "length1: int"
   ]
  },
  {
   "cell_type": "markdown",
   "id": "de1d87c3",
   "metadata": {},
   "source": [
    "## Enforcement of type annotations"
   ]
  },
  {
   "cell_type": "code",
   "execution_count": 3,
   "id": "23e9b1cd",
   "metadata": {},
   "outputs": [
    {
     "name": "stdout",
     "output_type": "stream",
     "text": [
      "15\n",
      "{}\n"
     ]
    }
   ],
   "source": [
    "# Function without Type Annotations\n",
    "def add_numbers1(a, b):\n",
    "    return a + b\n",
    "\n",
    "result = add_numbers1(5, 10)\n",
    "print(result)\n",
    "print(add_numbers1.__annotations__)"
   ]
  },
  {
   "cell_type": "code",
   "execution_count": 4,
   "id": "3f3d10d4",
   "metadata": {},
   "outputs": [
    {
     "name": "stdout",
     "output_type": "stream",
     "text": [
      "15\n",
      "{'a': <class 'int'>, 'b': <class 'int'>, 'return': <class 'int'>}\n"
     ]
    }
   ],
   "source": [
    "# Function with Type Annotations\n",
    "def add_numbers2(a: int, b: int) -> int:\n",
    "    return a + b\n",
    "\n",
    "result = add_numbers2(5, 10)\n",
    "print(result)\n",
    "print(add_numbers2.__annotations__)"
   ]
  },
  {
   "cell_type": "code",
   "execution_count": 5,
   "id": "82b11345",
   "metadata": {},
   "outputs": [
    {
     "name": "stdout",
     "output_type": "stream",
     "text": [
      "15\n",
      "{'a': <class 'str'>, 'b': <class 'str'>, 'return': <class 'float'>}\n"
     ]
    }
   ],
   "source": [
    "# Function with WRONG Type Annotations will still work.\n",
    "def add_numbers3(a: str, b: str) -> float:\n",
    "    return a + b\n",
    "\n",
    "result = add_numbers3(5, 10)\n",
    "print(result)\n",
    "print(add_numbers3.__annotations__)"
   ]
  },
  {
   "cell_type": "markdown",
   "id": "5d997acf",
   "metadata": {},
   "source": [
    "# Different Examples of Type Annotation"
   ]
  },
  {
   "cell_type": "markdown",
   "id": "7a408580",
   "metadata": {},
   "source": [
    "## Standard built-in types"
   ]
  },
  {
   "cell_type": "code",
   "execution_count": 6,
   "id": "5b415fe4",
   "metadata": {},
   "outputs": [],
   "source": [
    "a: str = 'some string'\n",
    "a: int = 1\n",
    "a: float = 2.0\n",
    "a: bool = False"
   ]
  },
  {
   "cell_type": "code",
   "execution_count": 7,
   "id": "dc32b018",
   "metadata": {},
   "outputs": [
    {
     "ename": "TypeError",
     "evalue": "unsupported operand type(s) for |: 'type' and 'type'",
     "output_type": "error",
     "traceback": [
      "\u001b[1;31m---------------------------------------------------------------------------\u001b[0m",
      "\u001b[1;31mTypeError\u001b[0m                                 Traceback (most recent call last)",
      "Cell \u001b[1;32mIn[7], line 3\u001b[0m\n\u001b[0;32m      1\u001b[0m \u001b[38;5;66;03m# For Python 3.9 and above, the name of the collection type is not capitalized.\u001b[39;00m\n\u001b[0;32m      2\u001b[0m a: \u001b[38;5;28mlist\u001b[39m[\u001b[38;5;28mstr\u001b[39m] \u001b[38;5;241m=\u001b[39m [\u001b[38;5;124m'\u001b[39m\u001b[38;5;124ma\u001b[39m\u001b[38;5;124m'\u001b[39m]\n\u001b[1;32m----> 3\u001b[0m a: \u001b[38;5;28mlist\u001b[39m[\u001b[38;5;28;43mstr\u001b[39;49m\u001b[43m \u001b[49m\u001b[38;5;241;43m|\u001b[39;49m\u001b[43m \u001b[49m\u001b[38;5;28;43mint\u001b[39;49m] \u001b[38;5;241m=\u001b[39m [\u001b[38;5;124m'\u001b[39m\u001b[38;5;124ma\u001b[39m\u001b[38;5;124m'\u001b[39m, \u001b[38;5;124m'\u001b[39m\u001b[38;5;124mb\u001b[39m\u001b[38;5;124m'\u001b[39m, \u001b[38;5;241m3\u001b[39m, \u001b[38;5;241m4\u001b[39m]  \u001b[38;5;66;03m# <-- Python 3.10 and above.\u001b[39;00m\n\u001b[0;32m      4\u001b[0m a: \u001b[38;5;28mset\u001b[39m[\u001b[38;5;28mfloat\u001b[39m] \u001b[38;5;241m=\u001b[39m {\u001b[38;5;241m1.0\u001b[39m, \u001b[38;5;241m2.0\u001b[39m, \u001b[38;5;241m3.0\u001b[39m}\n\u001b[0;32m      5\u001b[0m a: \u001b[38;5;28mdict\u001b[39m[\u001b[38;5;28mstr\u001b[39m, \u001b[38;5;28mstr\u001b[39m] \u001b[38;5;241m=\u001b[39m {\u001b[38;5;124m'\u001b[39m\u001b[38;5;124mtest\u001b[39m\u001b[38;5;124m'\u001b[39m: \u001b[38;5;124m'\u001b[39m\u001b[38;5;124mripalo\u001b[39m\u001b[38;5;124m'\u001b[39m}\n",
      "\u001b[1;31mTypeError\u001b[0m: unsupported operand type(s) for |: 'type' and 'type'"
     ]
    }
   ],
   "source": [
    "# For Python 3.9 and above, the name of the collection type is not capitalized.\n",
    "a: list[str] = ['a']\n",
    "a: list[str | int] = ['a', 'b', 3, 4]  # <-- Python 3.10 and above.\n",
    "a: set[float] = {1.0, 2.0, 3.0}\n",
    "a: dict[str, str] = {'test': 'ripalo'}\n",
    "a: tuple[int, str, bool] = (3, 'test', False)\n",
    "a: tuple[str, ...] = ('a', 'b', 'c', 'd')"
   ]
  },
  {
   "cell_type": "code",
   "execution_count": null,
   "id": "98f1f5f1",
   "metadata": {},
   "outputs": [],
   "source": [
    "# For Python 3.8 and earlier, the name of the collection type is capitalized.\n",
    "# Also need to import typing module\n",
    "from typing import List, Set, Dict, Tuple, Union\n",
    "a: List[str] = ['a']\n",
    "a: List[Union[str, int]] = ['a', 'b', 3, 4]  # <-- Python 3.9 and earlier\n",
    "a: Set[float] = {1.0, 2.0, 3.0}\n",
    "a: Dict[str, str] = {'test': 'ripalo'}\n",
    "a: Tuple[int, str, bool] = (3, 'test', False)\n",
    "a: Tuple[str, ...] = ('a', 'b', 'c', 'd')"
   ]
  },
  {
   "cell_type": "code",
   "execution_count": null,
   "id": "2ae90532",
   "metadata": {},
   "outputs": [],
   "source": [
    "# Optional Type\n",
    "# Used when the value could be None\n",
    "from typing import Optional, Union\n",
    "a: Optional[int] = 3  # It could also be None\n",
    "a: Optional[str] = 'test' # It could also be None"
   ]
  },
  {
   "cell_type": "markdown",
   "id": "500db2d6",
   "metadata": {},
   "source": [
    "## Type Aliases"
   ]
  },
  {
   "cell_type": "code",
   "execution_count": 8,
   "id": "701855ad",
   "metadata": {},
   "outputs": [
    {
     "name": "stdout",
     "output_type": "stream",
     "text": [
      "{'scalar': <class 'float'>, 'vector': typing.List[float], 'return': typing.List[float]}\n"
     ]
    }
   ],
   "source": [
    "# We can define our own aliases for different types to make it easier for our own understanding\n",
    "from typing import List\n",
    "\n",
    "Vector = List[float]\n",
    "\n",
    "def scale(scalar: float, vector: Vector) -> Vector:\n",
    "    return [scalar * num for num in vector]\n",
    "\n",
    "print(scale.__annotations__)"
   ]
  },
  {
   "cell_type": "markdown",
   "id": "86ca732a",
   "metadata": {},
   "source": [
    "## Callables"
   ]
  },
  {
   "cell_type": "code",
   "execution_count": 9,
   "id": "4ad959f8",
   "metadata": {},
   "outputs": [
    {
     "name": "stdout",
     "output_type": "stream",
     "text": [
      "{'a': <class 'int'>, 'b': <class 'int'>, 'return': <class 'int'>}\n",
      "{'x': <class 'int'>, 'y': <class 'int'>, 'return': <class 'int'>}\n",
      "{'x': <class 'int'>, 'y': <class 'int'>, 'operation': typing.Callable[[int, int], int], 'return': <class 'int'>}\n",
      "Result of addition: 8\n",
      "Result of multiplication: 8\n"
     ]
    }
   ],
   "source": [
    "from typing import Callable\n",
    "\n",
    "def add(a: int, b: int) -> int:\n",
    "    return a + b\n",
    "\n",
    "def multiply(x: int, y: int) -> int:\n",
    "    return x * y\n",
    "\n",
    "# A function that takes two integers and a Callable as arguments\n",
    "def perform_operation(x: int, y: int, operation: Callable[[int, int], int]) -> int:\n",
    "    return operation(x, y)\n",
    "\n",
    "print(add.__annotations__)\n",
    "print(multiply.__annotations__)\n",
    "print(perform_operation.__annotations__)\n",
    "\n",
    "result1 = perform_operation(5, 3, add)  # Calling perform_operation with 'add'\n",
    "print(\"Result of addition:\", result1)\n",
    "\n",
    "result2 = perform_operation(4, 2, multiply)  # Calling perform_operation with 'multiply'\n",
    "print(\"Result of multiplication:\", result2)  "
   ]
  },
  {
   "cell_type": "markdown",
   "id": "8202851b",
   "metadata": {},
   "source": [
    "## Classes"
   ]
  },
  {
   "cell_type": "code",
   "execution_count": 10,
   "id": "c1de1498",
   "metadata": {},
   "outputs": [],
   "source": [
    "from typing import ClassVar\n",
    "\n",
    "class Alibaba:\n",
    "    # Class level variable to be defined using ClassVar.\n",
    "    count: ClassVar[int] = 0\n",
    "    \n",
    "    # __init__ returns nothing so we define it as None\n",
    "    def __init__(self, name: str, apples: int = 0) -> None:\n",
    "        self.name = name\n",
    "        self.apples = apples\n",
    "        Alibaba.count += 1\n",
    "\n",
    "    # For instance methods, omit type for \"self\"\n",
    "    def give_away(self, apples: int) -> None:\n",
    "        self.apples -= apples\n",
    "        \n",
    "    def receive(self, apples: int) -> None:\n",
    "        self.apples += apples\n",
    "\n",
    "class Ripalo:\n",
    "    pass"
   ]
  },
  {
   "cell_type": "code",
   "execution_count": 11,
   "id": "8e35327d",
   "metadata": {},
   "outputs": [
    {
     "ename": "NameError",
     "evalue": "name 'AliRipalo' is not defined",
     "output_type": "error",
     "traceback": [
      "\u001b[1;31m---------------------------------------------------------------------------\u001b[0m",
      "\u001b[1;31mNameError\u001b[0m                                 Traceback (most recent call last)",
      "Cell \u001b[1;32mIn[11], line 9\u001b[0m\n\u001b[0;32m      7\u001b[0m b: Ripalo \u001b[38;5;241m=\u001b[39m Alibaba(\u001b[38;5;124m'\u001b[39m\u001b[38;5;124mJen\u001b[39m\u001b[38;5;124m'\u001b[39m, \u001b[38;5;241m20\u001b[39m)\n\u001b[0;32m      8\u001b[0m \u001b[38;5;66;03m# 3. Class not present. Even if the class hasn't been initiated.\u001b[39;00m\n\u001b[1;32m----> 9\u001b[0m c: \u001b[43mAliRipalo\u001b[49m \u001b[38;5;241m=\u001b[39m Alibaba(\u001b[38;5;124m'\u001b[39m\u001b[38;5;124mFail\u001b[39m\u001b[38;5;124m'\u001b[39m)\n",
      "\u001b[1;31mNameError\u001b[0m: name 'AliRipalo' is not defined"
     ]
    }
   ],
   "source": [
    "# User-defined classes are valid types in annotations\n",
    "\n",
    "# The first two will pass but the last one will not.\n",
    "# 1. Class present. Correct type hint\n",
    "a: Alibaba = Alibaba('Lim SZ', 70)\n",
    "# 2. Class present. Incorrect type hint\n",
    "b: Ripalo = Alibaba('Jen', 20)\n",
    "# 3. Class not present. Even if the class hasn't been initiated.\n",
    "c: AliRipalo = Alibaba('Fail')"
   ]
  },
  {
   "cell_type": "code",
   "execution_count": 12,
   "id": "5123d97a",
   "metadata": {},
   "outputs": [
    {
     "name": "stdout",
     "output_type": "stream",
     "text": [
      "{'giver': <class '__main__.Alibaba'>, 'receiver': <class '__main__.Alibaba'>, 'apples': <class 'int'>, 'return': None}\n"
     ]
    }
   ],
   "source": [
    "# Initiate the class\n",
    "a: Alibaba = Alibaba('Lim SZ', 70)\n",
    "b: Alibaba = Alibaba('Jen', 20)\n",
    "\n",
    "def transfer(giver: Alibaba, receiver: Alibaba, apples: int) -> None:\n",
    "    giver.give_away(apples)\n",
    "    receiver.receive(apples)\n",
    "\n",
    "print(transfer.__annotations__)"
   ]
  },
  {
   "cell_type": "markdown",
   "id": "151d80e2",
   "metadata": {},
   "source": [
    "## TypeVar"
   ]
  },
  {
   "cell_type": "code",
   "execution_count": 13,
   "id": "0801676f",
   "metadata": {},
   "outputs": [
    {
     "name": "stdout",
     "output_type": "stream",
     "text": [
      "First item in int_list: 1\n",
      "First item in str_list: apple\n",
      "{'items': typing.List[~T], 'return': ~T}\n"
     ]
    }
   ],
   "source": [
    "# TypeVar allows you to create a placeholder for a type to be specified later. \n",
    "# It's particularly useful when you want to define a function or a class that,\n",
    "# can work with different types without explicitly specifying them.\n",
    "\n",
    "from typing import TypeVar, List\n",
    "\n",
    "# Define a TypeVar\n",
    "T = TypeVar('T')  # Creating a placeholder type\n",
    "\n",
    "# A function that returns the first item from a list of any type\n",
    "def first_item(items: List[T]) -> T:\n",
    "    return items[0]\n",
    "\n",
    "# Using the function with different types\n",
    "int_list = [1, 2, 3, 4, 5]\n",
    "str_list = ['apple', 'banana', 'cherry']\n",
    "\n",
    "result1 = first_item(int_list)  # Returns an integer\n",
    "result2 = first_item(str_list)  # Returns a string\n",
    "\n",
    "print(\"First item in int_list:\", result1)  # Output: First item in int_list: 1\n",
    "print(\"First item in str_list:\", result2)  # Output: First item in str_list: apple\n",
    "print(first_item.__annotations__)"
   ]
  },
  {
   "cell_type": "markdown",
   "id": "cfae9789",
   "metadata": {},
   "source": [
    "## Complicated Scenarios - Any Type"
   ]
  },
  {
   "cell_type": "code",
   "execution_count": 14,
   "id": "203638c4",
   "metadata": {},
   "outputs": [
    {
     "name": "stdout",
     "output_type": "stream",
     "text": [
      "15\n",
      "{'a': <class 'str'>, 'b': <class 'str'>, 'return': typing.Any}\n"
     ]
    }
   ],
   "source": [
    "from typing import Any\n",
    "def add_numbers4(a: str, b: str) -> Any:\n",
    "    return a + b\n",
    "\n",
    "result = add_numbers3(5, 10)\n",
    "print(result)\n",
    "print(add_numbers4.__annotations__)"
   ]
  },
  {
   "cell_type": "markdown",
   "id": "01f6330f",
   "metadata": {},
   "source": [
    "## Type Hint Wrapper - NewType"
   ]
  },
  {
   "cell_type": "code",
   "execution_count": 15,
   "id": "708e550d",
   "metadata": {},
   "outputs": [
    {
     "name": "stdout",
     "output_type": "stream",
     "text": [
      "For Type Alias\n",
      "{'scalar': <class 'float'>, 'vector': typing.List[float], 'return': typing.List[float]}\n"
     ]
    }
   ],
   "source": [
    "# We can define our own aliases for different types to make it easier for our own understanding\n",
    "\n",
    "# Previous code from Type Alias\n",
    "from typing import List, NewType\n",
    "\n",
    "Vector = List[float]\n",
    "\n",
    "def scale(scalar: float, vector: Vector) -> Vector:\n",
    "    return [scalar * num for num in vector]\n",
    "\n",
    "print(\"For Type Alias\")\n",
    "print(scale.__annotations__)"
   ]
  },
  {
   "cell_type": "code",
   "execution_count": 16,
   "id": "74c8ef34",
   "metadata": {},
   "outputs": [
    {
     "name": "stdout",
     "output_type": "stream",
     "text": [
      "<class 'function'>\n",
      "<function NewType.<locals>.new_type at 0x00000215A6A765E0>\n",
      "b\n",
      "For NewType\n",
      "{'scalar': <class 'float'>, 'vector': <function NewType.<locals>.new_type at 0x00000215A6A765E0>, 'return': <function NewType.<locals>.new_type at 0x00000215A6A765E0>}\n"
     ]
    }
   ],
   "source": [
    "# Code for NewType\n",
    "from typing import List, NewType\n",
    "\n",
    "a = NewType('b', List[float])\n",
    "print(type(a))\n",
    "print(a)\n",
    "print(a.__name__)\n",
    "\n",
    "def scale(scalar: float, vector: a) -> a:\n",
    "    return [scalar * num for num in vector]\n",
    "\n",
    "print(\"For NewType\")\n",
    "print(scale.__annotations__)"
   ]
  },
  {
   "cell_type": "code",
   "execution_count": 17,
   "id": "5fc0e362",
   "metadata": {},
   "outputs": [
    {
     "name": "stdout",
     "output_type": "stream",
     "text": [
      "Processing User ID: 101\n",
      "Processing Product ID: 5001\n",
      "{'user_id': <function NewType.<locals>.new_type at 0x00000215A4E48F70>}\n",
      "{'product_id': <function NewType.<locals>.new_type at 0x00000215A6A76550>}\n"
     ]
    }
   ],
   "source": [
    "# Code for NewType\n",
    "from typing import NewType\n",
    "\n",
    "# Creating distinct types for user ID and product ID\n",
    "UserId = NewType('UserId', int)\n",
    "ProductId = NewType('ProductId', int)\n",
    "\n",
    "def process_user(user_id: UserId):\n",
    "    # Process user using UserId\n",
    "    print(f\"Processing User ID: {user_id}\")\n",
    "\n",
    "def process_product(product_id: ProductId):\n",
    "    # Process product using ProductId\n",
    "    print(f\"Processing Product ID: {product_id}\")\n",
    "\n",
    "# Usage of the distinct types\n",
    "user_id = UserId(101)\n",
    "product_id = ProductId(5001)\n",
    "\n",
    "process_user(user_id)\n",
    "process_product(product_id)\n",
    "\n",
    "print(process_user.__annotations__)\n",
    "print(process_product.__annotations__)"
   ]
  }
 ],
 "metadata": {
  "kernelspec": {
   "display_name": "Python 3 (ipykernel)",
   "language": "python",
   "name": "python3"
  },
  "language_info": {
   "codemirror_mode": {
    "name": "ipython",
    "version": 3
   },
   "file_extension": ".py",
   "mimetype": "text/x-python",
   "name": "python",
   "nbconvert_exporter": "python",
   "pygments_lexer": "ipython3",
   "version": "3.9.18"
  }
 },
 "nbformat": 4,
 "nbformat_minor": 5
}
