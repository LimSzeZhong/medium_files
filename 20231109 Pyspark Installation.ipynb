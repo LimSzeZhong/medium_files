{
 "cells": [
  {
   "cell_type": "code",
   "execution_count": 1,
   "id": "d051f6ce",
   "metadata": {},
   "outputs": [
    {
     "name": "stdout",
     "output_type": "stream",
     "text": [
      "3.4.1\n"
     ]
    }
   ],
   "source": [
    "import pyspark\n",
    "print(pyspark.__version__)"
   ]
  },
  {
   "cell_type": "code",
   "execution_count": 2,
   "id": "392e6dac",
   "metadata": {},
   "outputs": [
    {
     "data": {
      "text/plain": [
       "'C:\\\\Users\\\\lim\\\\.conda\\\\envs\\\\rip\\\\lib\\\\site-packages\\\\pyspark'"
      ]
     },
     "execution_count": 2,
     "metadata": {},
     "output_type": "execute_result"
    }
   ],
   "source": [
    "import findspark\n",
    "findspark.init()\n",
    "findspark.find()"
   ]
  },
  {
   "cell_type": "code",
   "execution_count": 3,
   "id": "a9dafc47",
   "metadata": {},
   "outputs": [],
   "source": [
    "# Import SparkSession to be able to initiate a spark session\n",
    "from pyspark.sql import SparkSession"
   ]
  },
  {
   "cell_type": "code",
   "execution_count": 4,
   "id": "e2a40c6c",
   "metadata": {},
   "outputs": [],
   "source": [
    "# Initiate a Spark Session\n",
    "spark = SparkSession.builder.appName('Sample').getOrCreate()"
   ]
  },
  {
   "cell_type": "code",
   "execution_count": 5,
   "id": "588026bc",
   "metadata": {},
   "outputs": [
    {
     "name": "stdout",
     "output_type": "stream",
     "text": [
      "<class 'pyspark.sql.dataframe.DataFrame'>\n",
      "DataFrame[Col_A: string, Col_B: bigint]\n",
      "+------+-----+\n",
      "| Col_A|Col_B|\n",
      "+------+-----+\n",
      "|   Lim|   29|\n",
      "|   Sze|   68|\n",
      "| Zhong|   63|\n",
      "|Medium|   33|\n",
      "+------+-----+\n",
      "\n",
      "None\n"
     ]
    }
   ],
   "source": [
    "# Create a dataframe from columns values and column names\n",
    "col_names = ['Col_A','Col_B']\n",
    "col_values = [('Lim',29),(\"Sze\", 68),('Zhong',63),('Medium',33)]\n",
    "\n",
    "df = spark.createDataFrame(col_values).toDF(*col_names)\n",
    "print(type(df))\n",
    "print(df)\n",
    "print(df.show())"
   ]
  }
 ],
 "metadata": {
  "kernelspec": {
   "display_name": "Python 3 (ipykernel)",
   "language": "python",
   "name": "python3"
  },
  "language_info": {
   "codemirror_mode": {
    "name": "ipython",
    "version": 3
   },
   "file_extension": ".py",
   "mimetype": "text/x-python",
   "name": "python",
   "nbconvert_exporter": "python",
   "pygments_lexer": "ipython3",
   "version": "3.9.7"
  }
 },
 "nbformat": 4,
 "nbformat_minor": 5
}
